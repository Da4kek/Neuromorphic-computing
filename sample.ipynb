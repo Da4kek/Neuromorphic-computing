{
 "cells": [
  {
   "cell_type": "code",
   "execution_count": 1,
   "metadata": {},
   "outputs": [],
   "source": [
    "from Models.STDP import STDP"
   ]
  },
  {
   "cell_type": "code",
   "execution_count": 2,
   "metadata": {},
   "outputs": [],
   "source": [
    "stdp_model = STDP.Stdp(gpu=False,n_workers=2)"
   ]
  },
  {
   "cell_type": "code",
   "execution_count": 3,
   "metadata": {},
   "outputs": [
    {
     "name": "stdout",
     "output_type": "stream",
     "text": [
      "Running on device=  cpu\n",
      "Running on device=  cpu\n",
      "\n",
      "Begin training.\n",
      "\n",
      "Progress: 0 / 1 (0.0000 seconds)\n",
      "Running on device=  cpu\n"
     ]
    },
    {
     "name": "stderr",
     "output_type": "stream",
     "text": [
      "  0%|          | 0/60000 [00:01<?, ?it/s]\n"
     ]
    },
    {
     "ename": "TypeError",
     "evalue": "unsupported operand type(s) for %: 'int' and 'NoneType'",
     "output_type": "error",
     "traceback": [
      "\u001b[0;31m---------------------------------------------------------------------------\u001b[0m",
      "\u001b[0;31mTypeError\u001b[0m                                 Traceback (most recent call last)",
      "Cell \u001b[0;32mIn[3], line 1\u001b[0m\n\u001b[0;32m----> 1\u001b[0m stdp_model\u001b[39m.\u001b[39;49mNetwork()\n",
      "File \u001b[0;32m~/Desktop/Imp/Neuromorphic/Neuromorphic-computing/Models/STDP/STDP.py:250\u001b[0m, in \u001b[0;36mStdp.Network\u001b[0;34m(self)\u001b[0m\n\u001b[1;32m    247\u001b[0m exc_voltages \u001b[39m=\u001b[39m exc_voltage_monitor\u001b[39m.\u001b[39mget(\u001b[39m\"\u001b[39m\u001b[39mv\u001b[39m\u001b[39m\"\u001b[39m)\n\u001b[1;32m    248\u001b[0m inh_voltages \u001b[39m=\u001b[39m inh_voltage_monitor\u001b[39m.\u001b[39mget(\u001b[39m\"\u001b[39m\u001b[39mv\u001b[39m\u001b[39m\"\u001b[39m)\n\u001b[0;32m--> 250\u001b[0m spike_record[step \u001b[39m%\u001b[39;49m \u001b[39mself\u001b[39;49m\u001b[39m.\u001b[39;49m_train_init()] \u001b[39m=\u001b[39m (\n\u001b[1;32m    251\u001b[0m     spikes[\u001b[39m\"\u001b[39m\u001b[39mAe\u001b[39m\u001b[39m\"\u001b[39m]\u001b[39m.\u001b[39mget(\u001b[39m\"\u001b[39m\u001b[39ms\u001b[39m\u001b[39m\"\u001b[39m)\u001b[39m.\u001b[39msqueeze()\n\u001b[1;32m    252\u001b[0m )\n\u001b[1;32m    253\u001b[0m \u001b[39mif\u001b[39;00m \u001b[39mself\u001b[39m\u001b[39m.\u001b[39mplot:\n\u001b[1;32m    254\u001b[0m     image \u001b[39m=\u001b[39m batch[\u001b[39m\"\u001b[39m\u001b[39mimage\u001b[39m\u001b[39m\"\u001b[39m]\u001b[39m.\u001b[39mview(\u001b[39m28\u001b[39m, \u001b[39m28\u001b[39m)\n",
      "\u001b[0;31mTypeError\u001b[0m: unsupported operand type(s) for %: 'int' and 'NoneType'"
     ]
    }
   ],
   "source": [
    "stdp_model.Network()"
   ]
  },
  {
   "cell_type": "code",
   "execution_count": null,
   "metadata": {},
   "outputs": [],
   "source": []
  }
 ],
 "metadata": {
  "kernelspec": {
   "display_name": "research",
   "language": "python",
   "name": "python3"
  },
  "language_info": {
   "codemirror_mode": {
    "name": "ipython",
    "version": 3
   },
   "file_extension": ".py",
   "mimetype": "text/x-python",
   "name": "python",
   "nbconvert_exporter": "python",
   "pygments_lexer": "ipython3",
   "version": "3.8.17"
  },
  "orig_nbformat": 4
 },
 "nbformat": 4,
 "nbformat_minor": 2
}
