{
 "cells": [
  {
   "cell_type": "code",
   "execution_count": 1,
   "metadata": {},
   "outputs": [],
   "source": [
    "from Models.STDP import STDP"
   ]
  },
  {
   "cell_type": "code",
   "execution_count": 2,
   "metadata": {},
   "outputs": [],
   "source": [
    "stdp_model = STDP.Stdp(gpu=False,n_workers=4)"
   ]
  },
  {
   "cell_type": "code",
   "execution_count": 3,
   "metadata": {},
   "outputs": [
    {
     "name": "stdout",
     "output_type": "stream",
     "text": [
      "Running on device=  cpu\n",
      "Running on device=  cpu\n",
      "\n",
      "Begin training.\n",
      "\n",
      "Progress: 0 / 1 (0.0000 seconds)\n",
      "Running on device=  cpu\n"
     ]
    },
    {
     "name": "stderr",
     "output_type": "stream",
     "text": [
      "  0%|          | 251/60000 [00:50<3:19:11,  5.00it/s]"
     ]
    },
    {
     "name": "stdout",
     "output_type": "stream",
     "text": [
      "\n",
      "All activity Acc: 9.60 (last), 9.60 (average), 9.60 (best)\n",
      "Proportion weighting Acc: 9.60 (last), 9.60 (average), 9.60 (best)\n",
      "\n"
     ]
    },
    {
     "name": "stderr",
     "output_type": "stream",
     "text": [
      "  1%|          | 500/60000 [01:39<3:15:52,  5.06it/s]"
     ]
    },
    {
     "name": "stdout",
     "output_type": "stream",
     "text": [
      "\n",
      "All activity Acc: 7.60 (last), 8.60 (average), 9.60 (best)\n",
      "Proportion weighting Acc: 7.60 (last), 8.60 (average), 9.60 (best)\n",
      "\n"
     ]
    },
    {
     "name": "stderr",
     "output_type": "stream",
     "text": [
      "  1%|▏         | 751/60000 [02:29<3:16:55,  5.01it/s]"
     ]
    },
    {
     "name": "stdout",
     "output_type": "stream",
     "text": [
      "\n",
      "All activity Acc: 8.80 (last), 8.67 (average), 9.60 (best)\n",
      "Proportion weighting Acc: 8.80 (last), 8.67 (average), 9.60 (best)\n",
      "\n"
     ]
    },
    {
     "name": "stderr",
     "output_type": "stream",
     "text": [
      "  2%|▏         | 1001/60000 [03:18<3:16:59,  4.99it/s]"
     ]
    },
    {
     "name": "stdout",
     "output_type": "stream",
     "text": [
      "\n",
      "All activity Acc: 8.80 (last), 8.70 (average), 9.60 (best)\n",
      "Proportion weighting Acc: 8.40 (last), 8.60 (average), 9.60 (best)\n",
      "\n"
     ]
    },
    {
     "name": "stderr",
     "output_type": "stream",
     "text": [
      "  2%|▏         | 1250/60000 [04:08<3:24:18,  4.79it/s]"
     ]
    },
    {
     "name": "stdout",
     "output_type": "stream",
     "text": [
      "\n",
      "All activity Acc: 10.00 (last), 8.96 (average), 10.00 (best)\n",
      "Proportion weighting Acc: 10.00 (last), 8.88 (average), 10.00 (best)\n",
      "\n"
     ]
    },
    {
     "name": "stderr",
     "output_type": "stream",
     "text": [
      "  2%|▎         | 1500/60000 [05:00<3:22:20,  4.82it/s]"
     ]
    },
    {
     "name": "stdout",
     "output_type": "stream",
     "text": [
      "\n",
      "All activity Acc: 12.00 (last), 9.47 (average), 12.00 (best)\n",
      "Proportion weighting Acc: 12.40 (last), 9.47 (average), 12.40 (best)\n",
      "\n"
     ]
    },
    {
     "name": "stderr",
     "output_type": "stream",
     "text": [
      "  3%|▎         | 1750/60000 [05:49<3:12:00,  5.06it/s]"
     ]
    },
    {
     "name": "stdout",
     "output_type": "stream",
     "text": [
      "\n",
      "All activity Acc: 15.60 (last), 10.34 (average), 15.60 (best)\n",
      "Proportion weighting Acc: 15.60 (last), 10.34 (average), 15.60 (best)\n",
      "\n"
     ]
    },
    {
     "name": "stderr",
     "output_type": "stream",
     "text": [
      "  3%|▎         | 2001/60000 [06:40<3:13:52,  4.99it/s]"
     ]
    },
    {
     "name": "stdout",
     "output_type": "stream",
     "text": [
      "\n",
      "All activity Acc: 9.60 (last), 10.25 (average), 15.60 (best)\n",
      "Proportion weighting Acc: 9.60 (last), 10.25 (average), 15.60 (best)\n",
      "\n"
     ]
    },
    {
     "name": "stderr",
     "output_type": "stream",
     "text": [
      "  4%|▍         | 2250/60000 [07:31<3:21:29,  4.78it/s]"
     ]
    },
    {
     "name": "stdout",
     "output_type": "stream",
     "text": [
      "\n",
      "All activity Acc: 14.00 (last), 10.67 (average), 15.60 (best)\n",
      "Proportion weighting Acc: 14.00 (last), 10.67 (average), 15.60 (best)\n",
      "\n"
     ]
    },
    {
     "name": "stderr",
     "output_type": "stream",
     "text": [
      "  4%|▍         | 2500/60000 [08:21<3:22:21,  4.74it/s]"
     ]
    },
    {
     "name": "stdout",
     "output_type": "stream",
     "text": [
      "\n",
      "All activity Acc: 16.40 (last), 11.24 (average), 16.40 (best)\n",
      "Proportion weighting Acc: 17.20 (last), 11.32 (average), 17.20 (best)\n",
      "\n"
     ]
    },
    {
     "name": "stderr",
     "output_type": "stream",
     "text": [
      "  5%|▍         | 2750/60000 [09:13<3:09:08,  5.04it/s]"
     ]
    },
    {
     "name": "stdout",
     "output_type": "stream",
     "text": [
      "\n",
      "All activity Acc: 12.00 (last), 11.31 (average), 16.40 (best)\n",
      "Proportion weighting Acc: 12.00 (last), 11.38 (average), 17.20 (best)\n",
      "\n"
     ]
    },
    {
     "name": "stderr",
     "output_type": "stream",
     "text": [
      "  5%|▌         | 3000/60000 [10:03<3:09:54,  5.00it/s]"
     ]
    },
    {
     "name": "stdout",
     "output_type": "stream",
     "text": [
      "\n",
      "All activity Acc: 16.40 (last), 11.73 (average), 16.40 (best)\n",
      "Proportion weighting Acc: 16.80 (last), 11.83 (average), 17.20 (best)\n",
      "\n"
     ]
    },
    {
     "name": "stderr",
     "output_type": "stream",
     "text": [
      "  5%|▌         | 3251/60000 [10:53<3:07:22,  5.05it/s]"
     ]
    },
    {
     "name": "stdout",
     "output_type": "stream",
     "text": [
      "\n",
      "All activity Acc: 15.60 (last), 12.03 (average), 16.40 (best)\n",
      "Proportion weighting Acc: 16.00 (last), 12.15 (average), 17.20 (best)\n",
      "\n"
     ]
    },
    {
     "name": "stderr",
     "output_type": "stream",
     "text": [
      "  6%|▌         | 3501/60000 [11:42<3:06:52,  5.04it/s]"
     ]
    },
    {
     "name": "stdout",
     "output_type": "stream",
     "text": [
      "\n",
      "All activity Acc: 12.40 (last), 12.06 (average), 16.40 (best)\n",
      "Proportion weighting Acc: 12.40 (last), 12.17 (average), 17.20 (best)\n",
      "\n"
     ]
    },
    {
     "name": "stderr",
     "output_type": "stream",
     "text": [
      "  6%|▋         | 3751/60000 [12:31<3:07:08,  5.01it/s]"
     ]
    },
    {
     "name": "stdout",
     "output_type": "stream",
     "text": [
      "\n",
      "All activity Acc: 21.60 (last), 12.69 (average), 21.60 (best)\n",
      "Proportion weighting Acc: 21.60 (last), 12.80 (average), 21.60 (best)\n",
      "\n"
     ]
    },
    {
     "name": "stderr",
     "output_type": "stream",
     "text": [
      "  7%|▋         | 4001/60000 [13:20<3:05:43,  5.03it/s]"
     ]
    },
    {
     "name": "stdout",
     "output_type": "stream",
     "text": [
      "\n",
      "All activity Acc: 18.80 (last), 13.07 (average), 21.60 (best)\n",
      "Proportion weighting Acc: 18.80 (last), 13.18 (average), 21.60 (best)\n",
      "\n"
     ]
    },
    {
     "name": "stderr",
     "output_type": "stream",
     "text": [
      "  7%|▋         | 4251/60000 [14:09<3:05:02,  5.02it/s]"
     ]
    },
    {
     "name": "stdout",
     "output_type": "stream",
     "text": [
      "\n",
      "All activity Acc: 35.60 (last), 14.40 (average), 35.60 (best)\n",
      "Proportion weighting Acc: 35.60 (last), 14.49 (average), 35.60 (best)\n",
      "\n"
     ]
    },
    {
     "name": "stderr",
     "output_type": "stream",
     "text": [
      "  8%|▊         | 4500/60000 [14:59<3:03:33,  5.04it/s]"
     ]
    },
    {
     "name": "stdout",
     "output_type": "stream",
     "text": [
      "\n",
      "All activity Acc: 29.60 (last), 15.24 (average), 35.60 (best)\n",
      "Proportion weighting Acc: 30.40 (last), 15.38 (average), 35.60 (best)\n",
      "\n"
     ]
    },
    {
     "name": "stderr",
     "output_type": "stream",
     "text": [
      "  8%|▊         | 4750/60000 [15:48<3:03:10,  5.03it/s]"
     ]
    },
    {
     "name": "stdout",
     "output_type": "stream",
     "text": [
      "\n",
      "All activity Acc: 16.00 (last), 15.28 (average), 35.60 (best)\n",
      "Proportion weighting Acc: 16.00 (last), 15.41 (average), 35.60 (best)\n",
      "\n"
     ]
    },
    {
     "name": "stderr",
     "output_type": "stream",
     "text": [
      "  8%|▊         | 5001/60000 [16:38<2:55:10,  5.23it/s]"
     ]
    },
    {
     "name": "stdout",
     "output_type": "stream",
     "text": [
      "\n",
      "All activity Acc: 22.00 (last), 15.62 (average), 35.60 (best)\n",
      "Proportion weighting Acc: 22.00 (last), 15.74 (average), 35.60 (best)\n",
      "\n"
     ]
    },
    {
     "name": "stderr",
     "output_type": "stream",
     "text": [
      "  9%|▉         | 5251/60000 [17:25<2:54:39,  5.22it/s]"
     ]
    },
    {
     "name": "stdout",
     "output_type": "stream",
     "text": [
      "\n",
      "All activity Acc: 21.20 (last), 15.89 (average), 35.60 (best)\n",
      "Proportion weighting Acc: 20.80 (last), 15.98 (average), 35.60 (best)\n",
      "\n"
     ]
    },
    {
     "name": "stderr",
     "output_type": "stream",
     "text": [
      "  9%|▉         | 5501/60000 [18:12<2:52:56,  5.25it/s]"
     ]
    },
    {
     "name": "stdout",
     "output_type": "stream",
     "text": [
      "\n",
      "All activity Acc: 23.20 (last), 16.22 (average), 35.60 (best)\n",
      "Proportion weighting Acc: 24.40 (last), 16.36 (average), 35.60 (best)\n",
      "\n"
     ]
    },
    {
     "name": "stderr",
     "output_type": "stream",
     "text": [
      " 10%|▉         | 5751/60000 [18:59<2:52:46,  5.23it/s]"
     ]
    },
    {
     "name": "stdout",
     "output_type": "stream",
     "text": [
      "\n",
      "All activity Acc: 34.00 (last), 16.99 (average), 35.60 (best)\n",
      "Proportion weighting Acc: 34.80 (last), 17.17 (average), 35.60 (best)\n",
      "\n"
     ]
    },
    {
     "name": "stderr",
     "output_type": "stream",
     "text": [
      " 10%|█         | 6001/60000 [19:47<2:52:18,  5.22it/s]"
     ]
    },
    {
     "name": "stdout",
     "output_type": "stream",
     "text": [
      "\n",
      "All activity Acc: 22.80 (last), 17.23 (average), 35.60 (best)\n",
      "Proportion weighting Acc: 20.00 (last), 17.28 (average), 35.60 (best)\n",
      "\n"
     ]
    },
    {
     "name": "stderr",
     "output_type": "stream",
     "text": [
      " 10%|█         | 6250/60000 [20:35<3:06:21,  4.81it/s]"
     ]
    },
    {
     "name": "stdout",
     "output_type": "stream",
     "text": [
      "\n",
      "All activity Acc: 24.80 (last), 17.54 (average), 35.60 (best)\n",
      "Proportion weighting Acc: 24.80 (last), 17.58 (average), 35.60 (best)\n",
      "\n"
     ]
    },
    {
     "name": "stderr",
     "output_type": "stream",
     "text": [
      " 11%|█         | 6500/60000 [21:27<3:02:55,  4.87it/s]"
     ]
    },
    {
     "name": "stdout",
     "output_type": "stream",
     "text": [
      "\n",
      "All activity Acc: 23.60 (last), 17.77 (average), 35.60 (best)\n",
      "Proportion weighting Acc: 24.00 (last), 17.83 (average), 35.60 (best)\n",
      "\n"
     ]
    },
    {
     "name": "stderr",
     "output_type": "stream",
     "text": [
      " 11%|█▏        | 6750/60000 [22:18<3:01:48,  4.88it/s]"
     ]
    },
    {
     "name": "stdout",
     "output_type": "stream",
     "text": [
      "\n",
      "All activity Acc: 35.20 (last), 18.41 (average), 35.60 (best)\n",
      "Proportion weighting Acc: 37.20 (last), 18.55 (average), 37.20 (best)\n",
      "\n"
     ]
    },
    {
     "name": "stderr",
     "output_type": "stream",
     "text": [
      " 12%|█▏        | 7000/60000 [23:10<3:01:52,  4.86it/s]"
     ]
    },
    {
     "name": "stdout",
     "output_type": "stream",
     "text": [
      "\n",
      "All activity Acc: 23.20 (last), 18.59 (average), 35.60 (best)\n",
      "Proportion weighting Acc: 23.20 (last), 18.71 (average), 37.20 (best)\n",
      "\n"
     ]
    },
    {
     "name": "stderr",
     "output_type": "stream",
     "text": [
      " 12%|█▏        | 7250/60000 [24:01<3:00:08,  4.88it/s]"
     ]
    },
    {
     "name": "stdout",
     "output_type": "stream",
     "text": [
      "\n",
      "All activity Acc: 30.80 (last), 19.01 (average), 35.60 (best)\n",
      "Proportion weighting Acc: 30.00 (last), 19.10 (average), 37.20 (best)\n",
      "\n"
     ]
    },
    {
     "name": "stderr",
     "output_type": "stream",
     "text": [
      " 12%|█▎        | 7500/60000 [24:52<2:59:11,  4.88it/s]"
     ]
    },
    {
     "name": "stdout",
     "output_type": "stream",
     "text": [
      "\n",
      "All activity Acc: 25.60 (last), 19.23 (average), 35.60 (best)\n",
      "Proportion weighting Acc: 25.60 (last), 19.32 (average), 37.20 (best)\n",
      "\n"
     ]
    },
    {
     "name": "stderr",
     "output_type": "stream",
     "text": [
      " 13%|█▎        | 7750/60000 [25:44<2:59:04,  4.86it/s]"
     ]
    },
    {
     "name": "stdout",
     "output_type": "stream",
     "text": [
      "\n",
      "All activity Acc: 25.60 (last), 19.43 (average), 35.60 (best)\n",
      "Proportion weighting Acc: 27.20 (last), 19.57 (average), 37.20 (best)\n",
      "\n"
     ]
    },
    {
     "name": "stderr",
     "output_type": "stream",
     "text": [
      " 13%|█▎        | 8000/60000 [26:36<3:00:05,  4.81it/s]"
     ]
    },
    {
     "name": "stdout",
     "output_type": "stream",
     "text": [
      "\n",
      "All activity Acc: 25.60 (last), 19.62 (average), 35.60 (best)\n",
      "Proportion weighting Acc: 27.60 (last), 19.83 (average), 37.20 (best)\n",
      "\n"
     ]
    },
    {
     "name": "stderr",
     "output_type": "stream",
     "text": [
      " 14%|█▍        | 8250/60000 [27:28<2:59:36,  4.80it/s]"
     ]
    },
    {
     "name": "stdout",
     "output_type": "stream",
     "text": [
      "\n",
      "All activity Acc: 29.60 (last), 19.93 (average), 35.60 (best)\n",
      "Proportion weighting Acc: 29.60 (last), 20.12 (average), 37.20 (best)\n",
      "\n"
     ]
    },
    {
     "name": "stderr",
     "output_type": "stream",
     "text": [
      " 14%|█▍        | 8500/60000 [28:19<2:58:11,  4.82it/s]"
     ]
    },
    {
     "name": "stdout",
     "output_type": "stream",
     "text": [
      "\n",
      "All activity Acc: 32.00 (last), 20.28 (average), 35.60 (best)\n",
      "Proportion weighting Acc: 31.60 (last), 20.46 (average), 37.20 (best)\n",
      "\n"
     ]
    },
    {
     "name": "stderr",
     "output_type": "stream",
     "text": [
      " 15%|█▍        | 8750/60000 [29:11<2:56:46,  4.83it/s]"
     ]
    },
    {
     "name": "stdout",
     "output_type": "stream",
     "text": [
      "\n",
      "All activity Acc: 44.00 (last), 20.96 (average), 44.00 (best)\n",
      "Proportion weighting Acc: 46.40 (last), 21.20 (average), 46.40 (best)\n",
      "\n"
     ]
    },
    {
     "name": "stderr",
     "output_type": "stream",
     "text": [
      " 15%|█▌        | 9000/60000 [30:03<2:57:26,  4.79it/s]"
     ]
    },
    {
     "name": "stdout",
     "output_type": "stream",
     "text": [
      "\n",
      "All activity Acc: 20.00 (last), 20.93 (average), 44.00 (best)\n",
      "Proportion weighting Acc: 22.00 (last), 21.22 (average), 46.40 (best)\n",
      "\n"
     ]
    },
    {
     "name": "stderr",
     "output_type": "stream",
     "text": [
      " 15%|█▌        | 9250/60000 [30:55<2:57:09,  4.77it/s]"
     ]
    },
    {
     "name": "stdout",
     "output_type": "stream",
     "text": [
      "\n",
      "All activity Acc: 24.80 (last), 21.04 (average), 44.00 (best)\n",
      "Proportion weighting Acc: 24.40 (last), 21.31 (average), 46.40 (best)\n",
      "\n"
     ]
    },
    {
     "name": "stderr",
     "output_type": "stream",
     "text": [
      " 16%|█▌        | 9501/60000 [31:44<2:32:09,  5.53it/s]"
     ]
    },
    {
     "name": "stdout",
     "output_type": "stream",
     "text": [
      "\n",
      "All activity Acc: 17.60 (last), 20.95 (average), 44.00 (best)\n",
      "Proportion weighting Acc: 18.40 (last), 21.23 (average), 46.40 (best)\n",
      "\n"
     ]
    },
    {
     "name": "stderr",
     "output_type": "stream",
     "text": [
      " 16%|█▋        | 9751/60000 [32:29<2:32:41,  5.48it/s]"
     ]
    },
    {
     "name": "stdout",
     "output_type": "stream",
     "text": [
      "\n",
      "All activity Acc: 30.40 (last), 21.19 (average), 44.00 (best)\n",
      "Proportion weighting Acc: 30.80 (last), 21.48 (average), 46.40 (best)\n",
      "\n"
     ]
    },
    {
     "name": "stderr",
     "output_type": "stream",
     "text": [
      " 17%|█▋        | 10001/60000 [33:14<2:30:48,  5.53it/s]"
     ]
    },
    {
     "name": "stdout",
     "output_type": "stream",
     "text": [
      "\n",
      "All activity Acc: 27.60 (last), 21.35 (average), 44.00 (best)\n",
      "Proportion weighting Acc: 27.60 (last), 21.63 (average), 46.40 (best)\n",
      "\n"
     ]
    },
    {
     "name": "stderr",
     "output_type": "stream",
     "text": [
      " 17%|█▋        | 10251/60000 [33:59<2:29:50,  5.53it/s]"
     ]
    },
    {
     "name": "stdout",
     "output_type": "stream",
     "text": [
      "\n",
      "All activity Acc: 19.60 (last), 21.31 (average), 44.00 (best)\n",
      "Proportion weighting Acc: 20.00 (last), 21.59 (average), 46.40 (best)\n",
      "\n"
     ]
    },
    {
     "name": "stderr",
     "output_type": "stream",
     "text": [
      " 18%|█▊        | 10501/60000 [34:44<2:29:58,  5.50it/s]"
     ]
    },
    {
     "name": "stdout",
     "output_type": "stream",
     "text": [
      "\n",
      "All activity Acc: 37.20 (last), 21.69 (average), 44.00 (best)\n",
      "Proportion weighting Acc: 40.40 (last), 22.04 (average), 46.40 (best)\n",
      "\n"
     ]
    },
    {
     "name": "stderr",
     "output_type": "stream",
     "text": [
      " 18%|█▊        | 10751/60000 [35:29<2:29:12,  5.50it/s]"
     ]
    },
    {
     "name": "stdout",
     "output_type": "stream",
     "text": [
      "\n",
      "All activity Acc: 30.40 (last), 21.89 (average), 44.00 (best)\n",
      "Proportion weighting Acc: 31.60 (last), 22.26 (average), 46.40 (best)\n",
      "\n"
     ]
    },
    {
     "name": "stderr",
     "output_type": "stream",
     "text": [
      " 18%|█▊        | 11001/60000 [36:13<2:28:17,  5.51it/s]"
     ]
    },
    {
     "name": "stdout",
     "output_type": "stream",
     "text": [
      "\n",
      "All activity Acc: 35.60 (last), 22.20 (average), 44.00 (best)\n",
      "Proportion weighting Acc: 36.80 (last), 22.59 (average), 46.40 (best)\n",
      "\n"
     ]
    },
    {
     "name": "stderr",
     "output_type": "stream",
     "text": [
      " 19%|█▉        | 11251/60000 [36:58<2:27:21,  5.51it/s]"
     ]
    },
    {
     "name": "stdout",
     "output_type": "stream",
     "text": [
      "\n",
      "All activity Acc: 42.00 (last), 22.64 (average), 44.00 (best)\n",
      "Proportion weighting Acc: 43.60 (last), 23.06 (average), 46.40 (best)\n",
      "\n"
     ]
    },
    {
     "name": "stderr",
     "output_type": "stream",
     "text": [
      " 19%|█▉        | 11501/60000 [37:43<2:26:15,  5.53it/s]"
     ]
    },
    {
     "name": "stdout",
     "output_type": "stream",
     "text": [
      "\n",
      "All activity Acc: 31.20 (last), 22.83 (average), 44.00 (best)\n",
      "Proportion weighting Acc: 32.00 (last), 23.25 (average), 46.40 (best)\n",
      "\n"
     ]
    },
    {
     "name": "stderr",
     "output_type": "stream",
     "text": [
      " 20%|█▉        | 11751/60000 [38:28<2:25:28,  5.53it/s]"
     ]
    },
    {
     "name": "stdout",
     "output_type": "stream",
     "text": [
      "\n",
      "All activity Acc: 10.40 (last), 22.56 (average), 44.00 (best)\n",
      "Proportion weighting Acc: 9.20 (last), 22.95 (average), 46.40 (best)\n",
      "\n"
     ]
    },
    {
     "name": "stderr",
     "output_type": "stream",
     "text": [
      " 20%|██        | 12001/60000 [39:13<2:25:15,  5.51it/s]"
     ]
    },
    {
     "name": "stdout",
     "output_type": "stream",
     "text": [
      "\n",
      "All activity Acc: 19.20 (last), 22.49 (average), 44.00 (best)\n",
      "Proportion weighting Acc: 20.40 (last), 22.90 (average), 46.40 (best)\n",
      "\n"
     ]
    },
    {
     "name": "stderr",
     "output_type": "stream",
     "text": [
      " 20%|██        | 12251/60000 [39:58<2:25:08,  5.48it/s]"
     ]
    },
    {
     "name": "stdout",
     "output_type": "stream",
     "text": [
      "\n",
      "All activity Acc: 21.20 (last), 22.47 (average), 44.00 (best)\n",
      "Proportion weighting Acc: 22.80 (last), 22.90 (average), 46.40 (best)\n",
      "\n"
     ]
    },
    {
     "name": "stderr",
     "output_type": "stream",
     "text": [
      " 21%|██        | 12501/60000 [40:43<2:23:43,  5.51it/s]"
     ]
    },
    {
     "name": "stdout",
     "output_type": "stream",
     "text": [
      "\n",
      "All activity Acc: 26.40 (last), 22.54 (average), 44.00 (best)\n",
      "Proportion weighting Acc: 27.60 (last), 22.99 (average), 46.40 (best)\n",
      "\n"
     ]
    },
    {
     "name": "stderr",
     "output_type": "stream",
     "text": [
      " 21%|██▏       | 12751/60000 [41:28<2:23:00,  5.51it/s]"
     ]
    },
    {
     "name": "stdout",
     "output_type": "stream",
     "text": [
      "\n",
      "All activity Acc: 14.40 (last), 22.38 (average), 44.00 (best)\n",
      "Proportion weighting Acc: 14.80 (last), 22.83 (average), 46.40 (best)\n",
      "\n"
     ]
    },
    {
     "name": "stderr",
     "output_type": "stream",
     "text": [
      " 22%|██▏       | 13001/60000 [42:13<2:21:27,  5.54it/s]"
     ]
    },
    {
     "name": "stdout",
     "output_type": "stream",
     "text": [
      "\n",
      "All activity Acc: 30.80 (last), 22.55 (average), 44.00 (best)\n",
      "Proportion weighting Acc: 33.60 (last), 23.04 (average), 46.40 (best)\n",
      "\n"
     ]
    },
    {
     "name": "stderr",
     "output_type": "stream",
     "text": [
      " 22%|██▏       | 13251/60000 [42:58<2:21:56,  5.49it/s]"
     ]
    },
    {
     "name": "stdout",
     "output_type": "stream",
     "text": [
      "\n",
      "All activity Acc: 23.60 (last), 22.57 (average), 44.00 (best)\n",
      "Proportion weighting Acc: 23.60 (last), 23.05 (average), 46.40 (best)\n",
      "\n"
     ]
    },
    {
     "name": "stderr",
     "output_type": "stream",
     "text": [
      " 23%|██▎       | 13501/60000 [43:43<2:20:42,  5.51it/s]"
     ]
    },
    {
     "name": "stdout",
     "output_type": "stream",
     "text": [
      "\n",
      "All activity Acc: 27.60 (last), 22.66 (average), 44.00 (best)\n",
      "Proportion weighting Acc: 32.00 (last), 23.21 (average), 46.40 (best)\n",
      "\n"
     ]
    },
    {
     "name": "stderr",
     "output_type": "stream",
     "text": [
      " 23%|██▎       | 13751/60000 [44:28<2:19:58,  5.51it/s]"
     ]
    },
    {
     "name": "stdout",
     "output_type": "stream",
     "text": [
      "\n",
      "All activity Acc: 25.20 (last), 22.71 (average), 44.00 (best)\n",
      "Proportion weighting Acc: 28.00 (last), 23.30 (average), 46.40 (best)\n",
      "\n"
     ]
    },
    {
     "name": "stderr",
     "output_type": "stream",
     "text": [
      " 23%|██▎       | 14000/60000 [45:13<2:32:17,  5.03it/s]"
     ]
    },
    {
     "name": "stdout",
     "output_type": "stream",
     "text": [
      "\n",
      "All activity Acc: 36.40 (last), 22.95 (average), 44.00 (best)\n",
      "Proportion weighting Acc: 38.80 (last), 23.58 (average), 46.40 (best)\n",
      "\n"
     ]
    },
    {
     "name": "stderr",
     "output_type": "stream",
     "text": [
      " 24%|██▍       | 14251/60000 [46:02<2:33:34,  4.96it/s]"
     ]
    },
    {
     "name": "stdout",
     "output_type": "stream",
     "text": [
      "\n",
      "All activity Acc: 36.80 (last), 23.19 (average), 44.00 (best)\n",
      "Proportion weighting Acc: 38.40 (last), 23.84 (average), 46.40 (best)\n",
      "\n"
     ]
    },
    {
     "name": "stderr",
     "output_type": "stream",
     "text": [
      " 24%|██▍       | 14500/60000 [46:52<2:31:21,  5.01it/s]"
     ]
    },
    {
     "name": "stdout",
     "output_type": "stream",
     "text": [
      "\n",
      "All activity Acc: 36.40 (last), 23.42 (average), 44.00 (best)\n",
      "Proportion weighting Acc: 38.00 (last), 24.08 (average), 46.40 (best)\n",
      "\n"
     ]
    },
    {
     "name": "stderr",
     "output_type": "stream",
     "text": [
      " 25%|██▍       | 14751/60000 [47:42<2:30:11,  5.02it/s]"
     ]
    },
    {
     "name": "stdout",
     "output_type": "stream",
     "text": [
      "\n",
      "All activity Acc: 15.20 (last), 23.28 (average), 44.00 (best)\n",
      "Proportion weighting Acc: 15.20 (last), 23.93 (average), 46.40 (best)\n",
      "\n"
     ]
    },
    {
     "name": "stderr",
     "output_type": "stream",
     "text": [
      " 25%|██▌       | 15001/60000 [48:31<2:29:48,  5.01it/s]"
     ]
    },
    {
     "name": "stdout",
     "output_type": "stream",
     "text": [
      "\n",
      "All activity Acc: 28.80 (last), 23.37 (average), 44.00 (best)\n",
      "Proportion weighting Acc: 30.40 (last), 24.04 (average), 46.40 (best)\n",
      "\n"
     ]
    },
    {
     "name": "stderr",
     "output_type": "stream",
     "text": [
      " 25%|██▌       | 15251/60000 [49:20<2:28:20,  5.03it/s]"
     ]
    },
    {
     "name": "stdout",
     "output_type": "stream",
     "text": [
      "\n",
      "All activity Acc: 35.60 (last), 23.57 (average), 44.00 (best)\n",
      "Proportion weighting Acc: 37.60 (last), 24.26 (average), 46.40 (best)\n",
      "\n"
     ]
    },
    {
     "name": "stderr",
     "output_type": "stream",
     "text": [
      " 26%|██▌       | 15501/60000 [50:10<2:29:13,  4.97it/s]"
     ]
    },
    {
     "name": "stdout",
     "output_type": "stream",
     "text": [
      "\n",
      "All activity Acc: 50.40 (last), 24.01 (average), 50.40 (best)\n",
      "Proportion weighting Acc: 54.40 (last), 24.75 (average), 54.40 (best)\n",
      "\n"
     ]
    },
    {
     "name": "stderr",
     "output_type": "stream",
     "text": [
      " 26%|██▋       | 15751/60000 [50:59<2:28:23,  4.97it/s]"
     ]
    },
    {
     "name": "stdout",
     "output_type": "stream",
     "text": [
      "\n",
      "All activity Acc: 52.00 (last), 24.45 (average), 52.00 (best)\n",
      "Proportion weighting Acc: 55.60 (last), 25.24 (average), 55.60 (best)\n",
      "\n"
     ]
    },
    {
     "name": "stderr",
     "output_type": "stream",
     "text": [
      " 27%|██▋       | 16001/60000 [51:49<2:28:01,  4.95it/s]"
     ]
    },
    {
     "name": "stdout",
     "output_type": "stream",
     "text": [
      "\n",
      "All activity Acc: 52.40 (last), 24.89 (average), 52.40 (best)\n",
      "Proportion weighting Acc: 55.20 (last), 25.71 (average), 55.60 (best)\n",
      "\n"
     ]
    },
    {
     "name": "stderr",
     "output_type": "stream",
     "text": [
      " 27%|██▋       | 16250/60000 [52:39<2:24:26,  5.05it/s]"
     ]
    },
    {
     "name": "stdout",
     "output_type": "stream",
     "text": [
      "\n",
      "All activity Acc: 50.00 (last), 25.27 (average), 52.40 (best)\n",
      "Proportion weighting Acc: 54.80 (last), 26.15 (average), 55.60 (best)\n",
      "\n"
     ]
    },
    {
     "name": "stderr",
     "output_type": "stream",
     "text": [
      " 28%|██▊       | 16500/60000 [53:29<2:31:45,  4.78it/s]"
     ]
    },
    {
     "name": "stdout",
     "output_type": "stream",
     "text": [
      "\n",
      "All activity Acc: 24.00 (last), 25.25 (average), 52.40 (best)\n",
      "Proportion weighting Acc: 19.20 (last), 26.05 (average), 55.60 (best)\n",
      "\n"
     ]
    },
    {
     "name": "stderr",
     "output_type": "stream",
     "text": [
      " 28%|██▊       | 16750/60000 [54:21<2:30:29,  4.79it/s]"
     ]
    },
    {
     "name": "stdout",
     "output_type": "stream",
     "text": [
      "\n",
      "All activity Acc: 34.80 (last), 25.40 (average), 52.40 (best)\n",
      "Proportion weighting Acc: 34.00 (last), 26.17 (average), 55.60 (best)\n",
      "\n"
     ]
    },
    {
     "name": "stderr",
     "output_type": "stream",
     "text": [
      " 28%|██▊       | 17000/60000 [55:14<2:29:38,  4.79it/s]"
     ]
    },
    {
     "name": "stdout",
     "output_type": "stream",
     "text": [
      "\n",
      "All activity Acc: 27.60 (last), 25.43 (average), 52.40 (best)\n",
      "Proportion weighting Acc: 25.60 (last), 26.16 (average), 55.60 (best)\n",
      "\n"
     ]
    },
    {
     "name": "stderr",
     "output_type": "stream",
     "text": [
      " 29%|██▉       | 17250/60000 [56:06<2:28:51,  4.79it/s]"
     ]
    },
    {
     "name": "stdout",
     "output_type": "stream",
     "text": [
      "\n",
      "All activity Acc: 22.80 (last), 25.39 (average), 52.40 (best)\n",
      "Proportion weighting Acc: 24.80 (last), 26.14 (average), 55.60 (best)\n",
      "\n"
     ]
    },
    {
     "name": "stderr",
     "output_type": "stream",
     "text": [
      " 29%|██▉       | 17500/60000 [56:58<2:28:24,  4.77it/s]"
     ]
    },
    {
     "name": "stdout",
     "output_type": "stream",
     "text": [
      "\n",
      "All activity Acc: 36.40 (last), 25.55 (average), 52.40 (best)\n",
      "Proportion weighting Acc: 42.00 (last), 26.37 (average), 55.60 (best)\n",
      "\n"
     ]
    },
    {
     "name": "stderr",
     "output_type": "stream",
     "text": [
      " 30%|██▉       | 17750/60000 [57:51<2:27:31,  4.77it/s]"
     ]
    },
    {
     "name": "stdout",
     "output_type": "stream",
     "text": [
      "\n",
      "All activity Acc: 24.00 (last), 25.53 (average), 52.40 (best)\n",
      "Proportion weighting Acc: 24.40 (last), 26.34 (average), 55.60 (best)\n",
      "\n"
     ]
    },
    {
     "name": "stderr",
     "output_type": "stream",
     "text": [
      " 30%|███       | 18001/60000 [58:42<2:19:47,  5.01it/s]"
     ]
    },
    {
     "name": "stdout",
     "output_type": "stream",
     "text": [
      "\n",
      "All activity Acc: 40.00 (last), 25.73 (average), 52.40 (best)\n",
      "Proportion weighting Acc: 43.60 (last), 26.58 (average), 55.60 (best)\n",
      "\n"
     ]
    },
    {
     "name": "stderr",
     "output_type": "stream",
     "text": [
      " 30%|███       | 18251/60000 [59:32<2:19:11,  5.00it/s]"
     ]
    },
    {
     "name": "stdout",
     "output_type": "stream",
     "text": [
      "\n",
      "All activity Acc: 47.20 (last), 26.02 (average), 52.40 (best)\n",
      "Proportion weighting Acc: 48.00 (last), 26.87 (average), 55.60 (best)\n",
      "\n"
     ]
    },
    {
     "name": "stderr",
     "output_type": "stream",
     "text": [
      " 31%|███       | 18500/60000 [1:00:22<2:20:43,  4.91it/s]"
     ]
    },
    {
     "name": "stdout",
     "output_type": "stream",
     "text": [
      "\n",
      "All activity Acc: 56.80 (last), 26.44 (average), 56.80 (best)\n",
      "Proportion weighting Acc: 61.60 (last), 27.34 (average), 61.60 (best)\n",
      "\n"
     ]
    },
    {
     "name": "stderr",
     "output_type": "stream",
     "text": [
      " 31%|███▏      | 18750/60000 [1:01:13<2:22:16,  4.83it/s]"
     ]
    },
    {
     "name": "stdout",
     "output_type": "stream",
     "text": [
      "\n",
      "All activity Acc: 42.40 (last), 26.65 (average), 56.80 (best)\n",
      "Proportion weighting Acc: 43.20 (last), 27.55 (average), 61.60 (best)\n",
      "\n"
     ]
    },
    {
     "name": "stderr",
     "output_type": "stream",
     "text": [
      " 32%|███▏      | 19000/60000 [1:02:03<2:17:19,  4.98it/s]"
     ]
    },
    {
     "name": "stdout",
     "output_type": "stream",
     "text": [
      "\n",
      "All activity Acc: 38.40 (last), 26.81 (average), 56.80 (best)\n",
      "Proportion weighting Acc: 40.00 (last), 27.72 (average), 61.60 (best)\n",
      "\n"
     ]
    },
    {
     "name": "stderr",
     "output_type": "stream",
     "text": [
      " 32%|███▏      | 19250/60000 [1:02:53<2:15:13,  5.02it/s]"
     ]
    },
    {
     "name": "stdout",
     "output_type": "stream",
     "text": [
      "\n",
      "All activity Acc: 20.00 (last), 26.72 (average), 56.80 (best)\n",
      "Proportion weighting Acc: 20.00 (last), 27.62 (average), 61.60 (best)\n",
      "\n"
     ]
    },
    {
     "name": "stderr",
     "output_type": "stream",
     "text": [
      " 32%|███▎      | 19500/60000 [1:03:43<2:14:17,  5.03it/s]"
     ]
    },
    {
     "name": "stdout",
     "output_type": "stream",
     "text": [
      "\n",
      "All activity Acc: 21.20 (last), 26.65 (average), 56.80 (best)\n",
      "Proportion weighting Acc: 22.40 (last), 27.55 (average), 61.60 (best)\n",
      "\n"
     ]
    },
    {
     "name": "stderr",
     "output_type": "stream",
     "text": [
      " 33%|███▎      | 19750/60000 [1:04:32<2:13:58,  5.01it/s]"
     ]
    },
    {
     "name": "stdout",
     "output_type": "stream",
     "text": [
      "\n",
      "All activity Acc: 35.60 (last), 26.76 (average), 56.80 (best)\n",
      "Proportion weighting Acc: 38.00 (last), 27.68 (average), 61.60 (best)\n",
      "\n"
     ]
    },
    {
     "name": "stderr",
     "output_type": "stream",
     "text": [
      " 33%|███▎      | 20000/60000 [1:05:22<2:12:54,  5.02it/s]"
     ]
    },
    {
     "name": "stdout",
     "output_type": "stream",
     "text": [
      "\n",
      "All activity Acc: 35.60 (last), 26.87 (average), 56.80 (best)\n",
      "Proportion weighting Acc: 37.60 (last), 27.80 (average), 61.60 (best)\n",
      "\n"
     ]
    },
    {
     "name": "stderr",
     "output_type": "stream",
     "text": [
      " 34%|███▍      | 20250/60000 [1:06:12<2:12:05,  5.02it/s]"
     ]
    },
    {
     "name": "stdout",
     "output_type": "stream",
     "text": [
      "\n",
      "All activity Acc: 34.00 (last), 26.96 (average), 56.80 (best)\n",
      "Proportion weighting Acc: 34.80 (last), 27.89 (average), 61.60 (best)\n",
      "\n"
     ]
    },
    {
     "name": "stderr",
     "output_type": "stream",
     "text": [
      " 34%|███▍      | 20500/60000 [1:07:02<2:12:01,  4.99it/s]"
     ]
    },
    {
     "name": "stdout",
     "output_type": "stream",
     "text": [
      "\n",
      "All activity Acc: 39.20 (last), 27.11 (average), 56.80 (best)\n",
      "Proportion weighting Acc: 43.60 (last), 28.08 (average), 61.60 (best)\n",
      "\n"
     ]
    },
    {
     "name": "stderr",
     "output_type": "stream",
     "text": [
      " 35%|███▍      | 20750/60000 [1:07:52<2:10:19,  5.02it/s]"
     ]
    },
    {
     "name": "stdout",
     "output_type": "stream",
     "text": [
      "\n",
      "All activity Acc: 17.20 (last), 26.99 (average), 56.80 (best)\n",
      "Proportion weighting Acc: 17.60 (last), 27.96 (average), 61.60 (best)\n",
      "\n"
     ]
    },
    {
     "name": "stderr",
     "output_type": "stream",
     "text": [
      " 35%|███▌      | 21000/60000 [1:08:42<2:09:14,  5.03it/s]"
     ]
    },
    {
     "name": "stdout",
     "output_type": "stream",
     "text": [
      "\n",
      "All activity Acc: 53.60 (last), 27.30 (average), 56.80 (best)\n",
      "Proportion weighting Acc: 58.00 (last), 28.31 (average), 61.60 (best)\n",
      "\n"
     ]
    },
    {
     "name": "stderr",
     "output_type": "stream",
     "text": [
      " 35%|███▌      | 21250/60000 [1:09:32<2:08:37,  5.02it/s]"
     ]
    },
    {
     "name": "stdout",
     "output_type": "stream",
     "text": [
      "\n",
      "All activity Acc: 58.00 (last), 27.67 (average), 58.00 (best)\n",
      "Proportion weighting Acc: 61.20 (last), 28.70 (average), 61.60 (best)\n",
      "\n"
     ]
    },
    {
     "name": "stderr",
     "output_type": "stream",
     "text": [
      " 36%|███▌      | 21500/60000 [1:10:22<2:13:09,  4.82it/s]"
     ]
    },
    {
     "name": "stdout",
     "output_type": "stream",
     "text": [
      "\n",
      "All activity Acc: 28.80 (last), 27.68 (average), 58.00 (best)\n",
      "Proportion weighting Acc: 30.40 (last), 28.72 (average), 61.60 (best)\n",
      "\n"
     ]
    },
    {
     "name": "stderr",
     "output_type": "stream",
     "text": [
      " 36%|███▋      | 21750/60000 [1:11:14<2:12:07,  4.82it/s]"
     ]
    },
    {
     "name": "stdout",
     "output_type": "stream",
     "text": [
      "\n",
      "All activity Acc: 53.20 (last), 27.97 (average), 58.00 (best)\n",
      "Proportion weighting Acc: 58.40 (last), 29.06 (average), 61.60 (best)\n",
      "\n"
     ]
    },
    {
     "name": "stderr",
     "output_type": "stream",
     "text": [
      " 37%|███▋      | 22000/60000 [1:12:06<2:13:01,  4.76it/s]"
     ]
    },
    {
     "name": "stdout",
     "output_type": "stream",
     "text": [
      "\n",
      "All activity Acc: 54.00 (last), 28.27 (average), 58.00 (best)\n",
      "Proportion weighting Acc: 58.00 (last), 29.39 (average), 61.60 (best)\n",
      "\n"
     ]
    },
    {
     "name": "stderr",
     "output_type": "stream",
     "text": [
      " 37%|███▋      | 22250/60000 [1:12:59<2:12:02,  4.76it/s]"
     ]
    },
    {
     "name": "stdout",
     "output_type": "stream",
     "text": [
      "\n",
      "All activity Acc: 59.20 (last), 28.62 (average), 59.20 (best)\n",
      "Proportion weighting Acc: 62.40 (last), 29.76 (average), 62.40 (best)\n",
      "\n"
     ]
    },
    {
     "name": "stderr",
     "output_type": "stream",
     "text": [
      " 38%|███▊      | 22500/60000 [1:13:51<2:11:28,  4.75it/s]"
     ]
    },
    {
     "name": "stdout",
     "output_type": "stream",
     "text": [
      "\n",
      "All activity Acc: 58.80 (last), 28.95 (average), 59.20 (best)\n",
      "Proportion weighting Acc: 61.20 (last), 30.11 (average), 62.40 (best)\n",
      "\n"
     ]
    },
    {
     "name": "stderr",
     "output_type": "stream",
     "text": [
      " 38%|███▊      | 22750/60000 [1:14:42<2:03:35,  5.02it/s]"
     ]
    },
    {
     "name": "stdout",
     "output_type": "stream",
     "text": [
      "\n",
      "All activity Acc: 25.60 (last), 28.91 (average), 59.20 (best)\n",
      "Proportion weighting Acc: 24.40 (last), 30.05 (average), 62.40 (best)\n",
      "\n"
     ]
    },
    {
     "name": "stderr",
     "output_type": "stream",
     "text": [
      " 38%|███▊      | 23000/60000 [1:15:32<2:02:39,  5.03it/s]"
     ]
    },
    {
     "name": "stdout",
     "output_type": "stream",
     "text": [
      "\n",
      "All activity Acc: 28.40 (last), 28.91 (average), 59.20 (best)\n",
      "Proportion weighting Acc: 26.80 (last), 30.01 (average), 62.40 (best)\n",
      "\n"
     ]
    },
    {
     "name": "stderr",
     "output_type": "stream",
     "text": [
      " 39%|███▉      | 23250/60000 [1:16:22<2:01:52,  5.03it/s]"
     ]
    },
    {
     "name": "stdout",
     "output_type": "stream",
     "text": [
      "\n",
      "All activity Acc: 54.80 (last), 29.19 (average), 59.20 (best)\n",
      "Proportion weighting Acc: 57.60 (last), 30.31 (average), 62.40 (best)\n",
      "\n"
     ]
    },
    {
     "name": "stderr",
     "output_type": "stream",
     "text": [
      " 39%|███▉      | 23500/60000 [1:17:12<2:00:54,  5.03it/s]"
     ]
    },
    {
     "name": "stdout",
     "output_type": "stream",
     "text": [
      "\n",
      "All activity Acc: 56.40 (last), 29.48 (average), 59.20 (best)\n",
      "Proportion weighting Acc: 59.20 (last), 30.62 (average), 62.40 (best)\n",
      "\n"
     ]
    },
    {
     "name": "stderr",
     "output_type": "stream",
     "text": [
      " 40%|███▉      | 23750/60000 [1:18:01<1:59:55,  5.04it/s]"
     ]
    },
    {
     "name": "stdout",
     "output_type": "stream",
     "text": [
      "\n",
      "All activity Acc: 62.80 (last), 29.83 (average), 62.80 (best)\n",
      "Proportion weighting Acc: 66.40 (last), 30.99 (average), 66.40 (best)\n",
      "\n"
     ]
    },
    {
     "name": "stderr",
     "output_type": "stream",
     "text": [
      " 40%|████      | 24000/60000 [1:18:51<2:00:40,  4.97it/s]"
     ]
    },
    {
     "name": "stdout",
     "output_type": "stream",
     "text": [
      "\n",
      "All activity Acc: 56.00 (last), 30.10 (average), 62.80 (best)\n",
      "Proportion weighting Acc: 57.60 (last), 31.27 (average), 66.40 (best)\n",
      "\n"
     ]
    },
    {
     "name": "stderr",
     "output_type": "stream",
     "text": [
      " 40%|████      | 24251/60000 [1:19:42<1:49:52,  5.42it/s]"
     ]
    },
    {
     "name": "stdout",
     "output_type": "stream",
     "text": [
      "\n",
      "All activity Acc: 14.00 (last), 29.93 (average), 62.80 (best)\n",
      "Proportion weighting Acc: 14.00 (last), 31.09 (average), 66.40 (best)\n",
      "\n"
     ]
    },
    {
     "name": "stderr",
     "output_type": "stream",
     "text": [
      " 41%|████      | 24500/60000 [1:20:30<2:00:43,  4.90it/s]"
     ]
    },
    {
     "name": "stdout",
     "output_type": "stream",
     "text": [
      "\n",
      "All activity Acc: 39.20 (last), 30.03 (average), 62.80 (best)\n",
      "Proportion weighting Acc: 45.20 (last), 31.24 (average), 66.40 (best)\n",
      "\n"
     ]
    },
    {
     "name": "stderr",
     "output_type": "stream",
     "text": [
      " 41%|████▏     | 24750/60000 [1:21:22<2:00:00,  4.90it/s]"
     ]
    },
    {
     "name": "stdout",
     "output_type": "stream",
     "text": [
      "\n",
      "All activity Acc: 61.60 (last), 30.35 (average), 62.80 (best)\n",
      "Proportion weighting Acc: 65.60 (last), 31.58 (average), 66.40 (best)\n",
      "\n"
     ]
    },
    {
     "name": "stderr",
     "output_type": "stream",
     "text": [
      " 42%|████▏     | 25000/60000 [1:22:13<2:02:06,  4.78it/s]"
     ]
    },
    {
     "name": "stdout",
     "output_type": "stream",
     "text": [
      "\n",
      "All activity Acc: 55.60 (last), 30.60 (average), 62.80 (best)\n",
      "Proportion weighting Acc: 59.60 (last), 31.86 (average), 66.40 (best)\n",
      "\n"
     ]
    },
    {
     "name": "stderr",
     "output_type": "stream",
     "text": [
      " 42%|████▏     | 25250/60000 [1:23:05<1:55:57,  4.99it/s]"
     ]
    },
    {
     "name": "stdout",
     "output_type": "stream",
     "text": [
      "\n",
      "All activity Acc: 29.60 (last), 30.59 (average), 62.80 (best)\n",
      "Proportion weighting Acc: 30.00 (last), 31.85 (average), 66.40 (best)\n",
      "\n"
     ]
    },
    {
     "name": "stderr",
     "output_type": "stream",
     "text": [
      " 42%|████▎     | 25500/60000 [1:23:55<1:54:49,  5.01it/s]"
     ]
    },
    {
     "name": "stdout",
     "output_type": "stream",
     "text": [
      "\n",
      "All activity Acc: 26.80 (last), 30.55 (average), 62.80 (best)\n",
      "Proportion weighting Acc: 28.00 (last), 31.81 (average), 66.40 (best)\n",
      "\n"
     ]
    },
    {
     "name": "stderr",
     "output_type": "stream",
     "text": [
      " 43%|████▎     | 25750/60000 [1:24:47<1:53:30,  5.03it/s]"
     ]
    },
    {
     "name": "stdout",
     "output_type": "stream",
     "text": [
      "\n",
      "All activity Acc: 30.80 (last), 30.56 (average), 62.80 (best)\n",
      "Proportion weighting Acc: 34.00 (last), 31.83 (average), 66.40 (best)\n",
      "\n"
     ]
    },
    {
     "name": "stderr",
     "output_type": "stream",
     "text": [
      " 43%|████▎     | 26000/60000 [1:25:37<1:52:56,  5.02it/s]"
     ]
    },
    {
     "name": "stdout",
     "output_type": "stream",
     "text": [
      "\n",
      "All activity Acc: 56.00 (last), 30.80 (average), 62.80 (best)\n",
      "Proportion weighting Acc: 60.00 (last), 32.10 (average), 66.40 (best)\n",
      "\n"
     ]
    },
    {
     "name": "stderr",
     "output_type": "stream",
     "text": [
      " 44%|████▍     | 26250/60000 [1:26:27<1:51:49,  5.03it/s]"
     ]
    },
    {
     "name": "stdout",
     "output_type": "stream",
     "text": [
      "\n",
      "All activity Acc: 38.80 (last), 30.88 (average), 62.80 (best)\n",
      "Proportion weighting Acc: 38.80 (last), 32.16 (average), 66.40 (best)\n",
      "\n"
     ]
    },
    {
     "name": "stderr",
     "output_type": "stream",
     "text": [
      " 44%|████▍     | 26500/60000 [1:27:17<1:57:04,  4.77it/s]"
     ]
    },
    {
     "name": "stdout",
     "output_type": "stream",
     "text": [
      "\n",
      "All activity Acc: 52.40 (last), 31.08 (average), 62.80 (best)\n",
      "Proportion weighting Acc: 56.00 (last), 32.39 (average), 66.40 (best)\n",
      "\n"
     ]
    },
    {
     "name": "stderr",
     "output_type": "stream",
     "text": [
      " 45%|████▍     | 26750/60000 [1:28:09<1:56:10,  4.77it/s]"
     ]
    },
    {
     "name": "stdout",
     "output_type": "stream",
     "text": [
      "\n",
      "All activity Acc: 35.60 (last), 31.12 (average), 62.80 (best)\n",
      "Proportion weighting Acc: 37.60 (last), 32.44 (average), 66.40 (best)\n",
      "\n"
     ]
    },
    {
     "name": "stderr",
     "output_type": "stream",
     "text": [
      " 45%|████▌     | 27000/60000 [1:29:01<1:49:53,  5.00it/s]"
     ]
    },
    {
     "name": "stdout",
     "output_type": "stream",
     "text": [
      "\n",
      "All activity Acc: 29.60 (last), 31.11 (average), 62.80 (best)\n",
      "Proportion weighting Acc: 32.40 (last), 32.44 (average), 66.40 (best)\n",
      "\n"
     ]
    },
    {
     "name": "stderr",
     "output_type": "stream",
     "text": [
      " 45%|████▌     | 27250/60000 [1:29:51<1:49:00,  5.01it/s]"
     ]
    },
    {
     "name": "stdout",
     "output_type": "stream",
     "text": [
      "\n",
      "All activity Acc: 53.60 (last), 31.31 (average), 62.80 (best)\n",
      "Proportion weighting Acc: 55.60 (last), 32.65 (average), 66.40 (best)\n",
      "\n"
     ]
    },
    {
     "name": "stderr",
     "output_type": "stream",
     "text": [
      " 46%|████▌     | 27500/60000 [1:30:41<1:48:15,  5.00it/s]"
     ]
    },
    {
     "name": "stdout",
     "output_type": "stream",
     "text": [
      "\n",
      "All activity Acc: 64.00 (last), 31.61 (average), 64.00 (best)\n",
      "Proportion weighting Acc: 66.80 (last), 32.96 (average), 66.80 (best)\n",
      "\n"
     ]
    },
    {
     "name": "stderr",
     "output_type": "stream",
     "text": [
      " 46%|████▋     | 27750/60000 [1:31:31<1:47:19,  5.01it/s]"
     ]
    },
    {
     "name": "stdout",
     "output_type": "stream",
     "text": [
      "\n",
      "All activity Acc: 58.40 (last), 31.85 (average), 64.00 (best)\n",
      "Proportion weighting Acc: 59.20 (last), 33.20 (average), 66.80 (best)\n",
      "\n"
     ]
    },
    {
     "name": "stderr",
     "output_type": "stream",
     "text": [
      " 47%|████▋     | 28000/60000 [1:32:22<1:52:18,  4.75it/s]"
     ]
    },
    {
     "name": "stdout",
     "output_type": "stream",
     "text": [
      "\n",
      "All activity Acc: 56.00 (last), 32.07 (average), 64.00 (best)\n",
      "Proportion weighting Acc: 58.40 (last), 33.42 (average), 66.80 (best)\n",
      "\n"
     ]
    },
    {
     "name": "stderr",
     "output_type": "stream",
     "text": [
      " 47%|████▋     | 28250/60000 [1:33:14<1:50:26,  4.79it/s]"
     ]
    },
    {
     "name": "stdout",
     "output_type": "stream",
     "text": [
      "\n",
      "All activity Acc: 31.60 (last), 32.06 (average), 64.00 (best)\n",
      "Proportion weighting Acc: 32.00 (last), 33.41 (average), 66.80 (best)\n",
      "\n"
     ]
    },
    {
     "name": "stderr",
     "output_type": "stream",
     "text": [
      " 48%|████▊     | 28500/60000 [1:34:06<1:49:37,  4.79it/s]"
     ]
    },
    {
     "name": "stdout",
     "output_type": "stream",
     "text": [
      "\n",
      "All activity Acc: 58.40 (last), 32.29 (average), 64.00 (best)\n",
      "Proportion weighting Acc: 60.80 (last), 33.65 (average), 66.80 (best)\n",
      "\n"
     ]
    },
    {
     "name": "stderr",
     "output_type": "stream",
     "text": [
      " 48%|████▊     | 28750/60000 [1:34:57<1:49:18,  4.77it/s]"
     ]
    },
    {
     "name": "stdout",
     "output_type": "stream",
     "text": [
      "\n",
      "All activity Acc: 57.20 (last), 32.51 (average), 64.00 (best)\n",
      "Proportion weighting Acc: 61.60 (last), 33.89 (average), 66.80 (best)\n",
      "\n"
     ]
    },
    {
     "name": "stderr",
     "output_type": "stream",
     "text": [
      " 48%|████▊     | 29000/60000 [1:35:49<1:47:57,  4.79it/s]"
     ]
    },
    {
     "name": "stdout",
     "output_type": "stream",
     "text": [
      "\n",
      "All activity Acc: 65.60 (last), 32.80 (average), 65.60 (best)\n",
      "Proportion weighting Acc: 66.00 (last), 34.17 (average), 66.80 (best)\n",
      "\n"
     ]
    },
    {
     "name": "stderr",
     "output_type": "stream",
     "text": [
      " 49%|████▉     | 29250/60000 [1:36:42<1:44:14,  4.92it/s]"
     ]
    },
    {
     "name": "stdout",
     "output_type": "stream",
     "text": [
      "\n",
      "All activity Acc: 63.60 (last), 33.06 (average), 65.60 (best)\n",
      "Proportion weighting Acc: 64.40 (last), 34.43 (average), 66.80 (best)\n",
      "\n"
     ]
    },
    {
     "name": "stderr",
     "output_type": "stream",
     "text": [
      " 49%|████▉     | 29500/60000 [1:37:34<1:46:19,  4.78it/s]"
     ]
    },
    {
     "name": "stdout",
     "output_type": "stream",
     "text": [
      "\n",
      "All activity Acc: 54.80 (last), 33.24 (average), 65.60 (best)\n",
      "Proportion weighting Acc: 60.40 (last), 34.65 (average), 66.80 (best)\n",
      "\n"
     ]
    },
    {
     "name": "stderr",
     "output_type": "stream",
     "text": [
      " 50%|████▉     | 29750/60000 [1:38:26<1:45:50,  4.76it/s]"
     ]
    },
    {
     "name": "stdout",
     "output_type": "stream",
     "text": [
      "\n",
      "All activity Acc: 29.20 (last), 33.21 (average), 65.60 (best)\n",
      "Proportion weighting Acc: 33.60 (last), 34.64 (average), 66.80 (best)\n",
      "\n"
     ]
    },
    {
     "name": "stderr",
     "output_type": "stream",
     "text": [
      " 50%|█████     | 30000/60000 [1:39:18<1:41:14,  4.94it/s]"
     ]
    },
    {
     "name": "stdout",
     "output_type": "stream",
     "text": [
      "\n",
      "All activity Acc: 29.20 (last), 33.18 (average), 65.60 (best)\n",
      "Proportion weighting Acc: 33.20 (last), 34.63 (average), 66.80 (best)\n",
      "\n"
     ]
    },
    {
     "name": "stderr",
     "output_type": "stream",
     "text": [
      " 50%|█████     | 30250/60000 [1:40:09<1:42:52,  4.82it/s]"
     ]
    },
    {
     "name": "stdout",
     "output_type": "stream",
     "text": [
      "\n",
      "All activity Acc: 34.40 (last), 33.19 (average), 65.60 (best)\n",
      "Proportion weighting Acc: 36.80 (last), 34.64 (average), 66.80 (best)\n",
      "\n"
     ]
    },
    {
     "name": "stderr",
     "output_type": "stream",
     "text": [
      " 51%|█████     | 30501/60000 [1:41:00<1:32:36,  5.31it/s]"
     ]
    },
    {
     "name": "stdout",
     "output_type": "stream",
     "text": [
      "\n",
      "All activity Acc: 54.80 (last), 33.36 (average), 65.60 (best)\n",
      "Proportion weighting Acc: 59.60 (last), 34.85 (average), 66.80 (best)\n",
      "\n"
     ]
    },
    {
     "name": "stderr",
     "output_type": "stream",
     "text": [
      " 51%|█████▏    | 30751/60000 [1:41:46<1:30:26,  5.39it/s]"
     ]
    },
    {
     "name": "stdout",
     "output_type": "stream",
     "text": [
      "\n",
      "All activity Acc: 56.80 (last), 33.55 (average), 65.60 (best)\n",
      "Proportion weighting Acc: 56.80 (last), 35.03 (average), 66.80 (best)\n",
      "\n"
     ]
    },
    {
     "name": "stderr",
     "output_type": "stream",
     "text": [
      " 52%|█████▏    | 31000/60000 [1:42:35<1:35:40,  5.05it/s]"
     ]
    },
    {
     "name": "stdout",
     "output_type": "stream",
     "text": [
      "\n",
      "All activity Acc: 58.80 (last), 33.76 (average), 65.60 (best)\n",
      "Proportion weighting Acc: 61.20 (last), 35.24 (average), 66.80 (best)\n",
      "\n"
     ]
    },
    {
     "name": "stderr",
     "output_type": "stream",
     "text": [
      " 52%|█████▏    | 31250/60000 [1:43:25<1:34:55,  5.05it/s]"
     ]
    },
    {
     "name": "stdout",
     "output_type": "stream",
     "text": [
      "\n",
      "All activity Acc: 44.00 (last), 33.84 (average), 65.60 (best)\n",
      "Proportion weighting Acc: 46.40 (last), 35.33 (average), 66.80 (best)\n",
      "\n"
     ]
    },
    {
     "name": "stderr",
     "output_type": "stream",
     "text": [
      " 52%|█████▎    | 31500/60000 [1:44:14<1:36:02,  4.95it/s]"
     ]
    },
    {
     "name": "stdout",
     "output_type": "stream",
     "text": [
      "\n",
      "All activity Acc: 43.20 (last), 33.91 (average), 65.60 (best)\n",
      "Proportion weighting Acc: 48.00 (last), 35.43 (average), 66.80 (best)\n",
      "\n"
     ]
    },
    {
     "name": "stderr",
     "output_type": "stream",
     "text": [
      " 53%|█████▎    | 31750/60000 [1:45:06<1:37:10,  4.85it/s]"
     ]
    },
    {
     "name": "stdout",
     "output_type": "stream",
     "text": [
      "\n",
      "All activity Acc: 36.40 (last), 33.93 (average), 65.60 (best)\n",
      "Proportion weighting Acc: 38.40 (last), 35.45 (average), 66.80 (best)\n",
      "\n"
     ]
    },
    {
     "name": "stderr",
     "output_type": "stream",
     "text": [
      " 53%|█████▎    | 32000/60000 [1:45:58<1:36:22,  4.84it/s]"
     ]
    },
    {
     "name": "stdout",
     "output_type": "stream",
     "text": [
      "\n",
      "All activity Acc: 58.40 (last), 34.12 (average), 65.60 (best)\n",
      "Proportion weighting Acc: 58.40 (last), 35.63 (average), 66.80 (best)\n",
      "\n"
     ]
    },
    {
     "name": "stderr",
     "output_type": "stream",
     "text": [
      " 54%|█████▍    | 32250/60000 [1:46:50<1:35:48,  4.83it/s]"
     ]
    },
    {
     "name": "stdout",
     "output_type": "stream",
     "text": [
      "\n",
      "All activity Acc: 47.20 (last), 34.23 (average), 65.60 (best)\n",
      "Proportion weighting Acc: 47.60 (last), 35.72 (average), 66.80 (best)\n",
      "\n"
     ]
    },
    {
     "name": "stderr",
     "output_type": "stream",
     "text": [
      " 54%|█████▍    | 32500/60000 [1:47:42<1:36:27,  4.75it/s]"
     ]
    },
    {
     "name": "stdout",
     "output_type": "stream",
     "text": [
      "\n",
      "All activity Acc: 33.20 (last), 34.22 (average), 65.60 (best)\n",
      "Proportion weighting Acc: 34.00 (last), 35.71 (average), 66.80 (best)\n",
      "\n"
     ]
    },
    {
     "name": "stderr",
     "output_type": "stream",
     "text": [
      " 54%|█████▍    | 32651/60000 [1:48:13<1:35:47,  4.76it/s]"
     ]
    }
   ],
   "source": [
    "stdp_model.Network()"
   ]
  },
  {
   "cell_type": "code",
   "execution_count": null,
   "metadata": {},
   "outputs": [],
   "source": []
  }
 ],
 "metadata": {
  "kernelspec": {
   "display_name": "research",
   "language": "python",
   "name": "python3"
  },
  "language_info": {
   "codemirror_mode": {
    "name": "ipython",
    "version": 3
   },
   "file_extension": ".py",
   "mimetype": "text/x-python",
   "name": "python",
   "nbconvert_exporter": "python",
   "pygments_lexer": "ipython3",
   "version": "3.8.17"
  },
  "orig_nbformat": 4
 },
 "nbformat": 4,
 "nbformat_minor": 2
}
