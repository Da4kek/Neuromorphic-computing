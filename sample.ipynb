{
 "cells": [
  {
   "cell_type": "code",
   "execution_count": 2,
   "metadata": {},
   "outputs": [],
   "source": [
    "from Models.STDP import STDP"
   ]
  },
  {
   "cell_type": "code",
   "execution_count": 3,
   "metadata": {},
   "outputs": [],
   "source": [
    "stdp_model = STDP.Stdp(gpu=False,n_workers=4)"
   ]
  },
  {
   "cell_type": "code",
   "execution_count": 4,
   "metadata": {},
   "outputs": [
    {
     "name": "stdout",
     "output_type": "stream",
     "text": [
      "Running on device=  cpu\n",
      "Running on device=  cpu\n",
      "\n",
      "Begin training.\n",
      "\n",
      "Progress: 0 / 1 (0.0000 seconds)\n",
      "Running on device=  cpu\n"
     ]
    },
    {
     "name": "stderr",
     "output_type": "stream",
     "text": [
      "  0%|          | 251/60000 [00:47<3:13:16,  5.15it/s]"
     ]
    },
    {
     "name": "stdout",
     "output_type": "stream",
     "text": [
      "\n",
      "All activity Acc: 9.60 (last), 9.60 (average), 9.60 (best)\n",
      "Proportion weighting Acc: 9.60 (last), 9.60 (average), 9.60 (best)\n",
      "\n"
     ]
    },
    {
     "name": "stderr",
     "output_type": "stream",
     "text": [
      "  1%|          | 501/60000 [01:35<3:12:40,  5.15it/s]"
     ]
    },
    {
     "name": "stdout",
     "output_type": "stream",
     "text": [
      "\n",
      "All activity Acc: 9.20 (last), 9.40 (average), 9.60 (best)\n",
      "Proportion weighting Acc: 9.20 (last), 9.40 (average), 9.60 (best)\n",
      "\n"
     ]
    },
    {
     "name": "stderr",
     "output_type": "stream",
     "text": [
      "  1%|▏         | 751/60000 [02:23<3:13:56,  5.09it/s]"
     ]
    },
    {
     "name": "stdout",
     "output_type": "stream",
     "text": [
      "\n",
      "All activity Acc: 9.20 (last), 9.33 (average), 9.60 (best)\n",
      "Proportion weighting Acc: 9.20 (last), 9.33 (average), 9.60 (best)\n",
      "\n"
     ]
    },
    {
     "name": "stderr",
     "output_type": "stream",
     "text": [
      "  2%|▏         | 1001/60000 [03:10<3:01:14,  5.43it/s]"
     ]
    },
    {
     "name": "stdout",
     "output_type": "stream",
     "text": [
      "\n",
      "All activity Acc: 12.40 (last), 10.10 (average), 12.40 (best)\n",
      "Proportion weighting Acc: 12.40 (last), 10.10 (average), 12.40 (best)\n",
      "\n"
     ]
    },
    {
     "name": "stderr",
     "output_type": "stream",
     "text": [
      "  2%|▏         | 1250/60000 [03:56<3:12:49,  5.08it/s]"
     ]
    },
    {
     "name": "stdout",
     "output_type": "stream",
     "text": [
      "\n",
      "All activity Acc: 10.40 (last), 10.16 (average), 12.40 (best)\n",
      "Proportion weighting Acc: 10.40 (last), 10.16 (average), 12.40 (best)\n",
      "\n"
     ]
    },
    {
     "name": "stderr",
     "output_type": "stream",
     "text": [
      "  3%|▎         | 1501/60000 [04:46<3:15:37,  4.98it/s]"
     ]
    },
    {
     "name": "stdout",
     "output_type": "stream",
     "text": [
      "\n",
      "All activity Acc: 8.00 (last), 9.80 (average), 12.40 (best)\n",
      "Proportion weighting Acc: 8.00 (last), 9.80 (average), 12.40 (best)\n",
      "\n"
     ]
    },
    {
     "name": "stderr",
     "output_type": "stream",
     "text": [
      "  3%|▎         | 1751/60000 [05:35<3:14:32,  4.99it/s]"
     ]
    },
    {
     "name": "stdout",
     "output_type": "stream",
     "text": [
      "\n",
      "All activity Acc: 16.40 (last), 10.74 (average), 16.40 (best)\n",
      "Proportion weighting Acc: 16.40 (last), 10.74 (average), 16.40 (best)\n",
      "\n"
     ]
    },
    {
     "name": "stderr",
     "output_type": "stream",
     "text": [
      "  3%|▎         | 2001/60000 [06:24<3:14:40,  4.97it/s]"
     ]
    },
    {
     "name": "stdout",
     "output_type": "stream",
     "text": [
      "\n",
      "All activity Acc: 14.00 (last), 11.15 (average), 16.40 (best)\n",
      "Proportion weighting Acc: 14.00 (last), 11.15 (average), 16.40 (best)\n",
      "\n"
     ]
    },
    {
     "name": "stderr",
     "output_type": "stream",
     "text": [
      "  4%|▍         | 2250/60000 [07:14<3:13:19,  4.98it/s]"
     ]
    },
    {
     "name": "stdout",
     "output_type": "stream",
     "text": [
      "\n",
      "All activity Acc: 16.40 (last), 11.73 (average), 16.40 (best)\n",
      "Proportion weighting Acc: 16.40 (last), 11.73 (average), 16.40 (best)\n",
      "\n"
     ]
    },
    {
     "name": "stderr",
     "output_type": "stream",
     "text": [
      "  4%|▍         | 2500/60000 [08:04<3:16:29,  4.88it/s]"
     ]
    },
    {
     "name": "stdout",
     "output_type": "stream",
     "text": [
      "\n",
      "All activity Acc: 16.40 (last), 12.20 (average), 16.40 (best)\n",
      "Proportion weighting Acc: 16.40 (last), 12.20 (average), 16.40 (best)\n",
      "\n"
     ]
    },
    {
     "name": "stderr",
     "output_type": "stream",
     "text": [
      "  5%|▍         | 2750/60000 [08:54<3:09:20,  5.04it/s]"
     ]
    },
    {
     "name": "stdout",
     "output_type": "stream",
     "text": [
      "\n",
      "All activity Acc: 11.20 (last), 12.11 (average), 16.40 (best)\n",
      "Proportion weighting Acc: 11.20 (last), 12.11 (average), 16.40 (best)\n",
      "\n"
     ]
    },
    {
     "name": "stderr",
     "output_type": "stream",
     "text": [
      "  5%|▌         | 3000/60000 [09:44<3:09:26,  5.01it/s]"
     ]
    },
    {
     "name": "stdout",
     "output_type": "stream",
     "text": [
      "\n",
      "All activity Acc: 21.20 (last), 12.87 (average), 21.20 (best)\n",
      "Proportion weighting Acc: 21.60 (last), 12.90 (average), 21.60 (best)\n",
      "\n"
     ]
    },
    {
     "name": "stderr",
     "output_type": "stream",
     "text": [
      "  5%|▌         | 3251/60000 [10:34<3:11:13,  4.95it/s]"
     ]
    },
    {
     "name": "stdout",
     "output_type": "stream",
     "text": [
      "\n",
      "All activity Acc: 16.80 (last), 13.17 (average), 21.20 (best)\n",
      "Proportion weighting Acc: 16.80 (last), 13.20 (average), 21.60 (best)\n",
      "\n"
     ]
    },
    {
     "name": "stderr",
     "output_type": "stream",
     "text": [
      "  6%|▌         | 3501/60000 [11:22<3:02:20,  5.16it/s]"
     ]
    },
    {
     "name": "stdout",
     "output_type": "stream",
     "text": [
      "\n",
      "All activity Acc: 12.80 (last), 13.14 (average), 21.20 (best)\n",
      "Proportion weighting Acc: 12.80 (last), 13.17 (average), 21.60 (best)\n",
      "\n"
     ]
    },
    {
     "name": "stderr",
     "output_type": "stream",
     "text": [
      "  6%|▋         | 3751/60000 [12:09<3:01:55,  5.15it/s]"
     ]
    },
    {
     "name": "stdout",
     "output_type": "stream",
     "text": [
      "\n",
      "All activity Acc: 24.40 (last), 13.89 (average), 24.40 (best)\n",
      "Proportion weighting Acc: 24.00 (last), 13.89 (average), 24.00 (best)\n",
      "\n"
     ]
    },
    {
     "name": "stderr",
     "output_type": "stream",
     "text": [
      "  7%|▋         | 4001/60000 [12:57<3:01:32,  5.14it/s]"
     ]
    },
    {
     "name": "stdout",
     "output_type": "stream",
     "text": [
      "\n",
      "All activity Acc: 15.60 (last), 14.00 (average), 24.40 (best)\n",
      "Proportion weighting Acc: 16.00 (last), 14.03 (average), 24.00 (best)\n",
      "\n"
     ]
    },
    {
     "name": "stderr",
     "output_type": "stream",
     "text": [
      "  7%|▋         | 4251/60000 [13:45<3:00:14,  5.15it/s]"
     ]
    },
    {
     "name": "stdout",
     "output_type": "stream",
     "text": [
      "\n",
      "All activity Acc: 42.40 (last), 15.67 (average), 42.40 (best)\n",
      "Proportion weighting Acc: 42.00 (last), 15.67 (average), 42.00 (best)\n",
      "\n"
     ]
    },
    {
     "name": "stderr",
     "output_type": "stream",
     "text": [
      "  8%|▊         | 4500/60000 [14:35<3:05:44,  4.98it/s]"
     ]
    },
    {
     "name": "stdout",
     "output_type": "stream",
     "text": [
      "\n",
      "All activity Acc: 20.40 (last), 15.93 (average), 42.40 (best)\n",
      "Proportion weighting Acc: 20.40 (last), 15.93 (average), 42.00 (best)\n",
      "\n"
     ]
    },
    {
     "name": "stderr",
     "output_type": "stream",
     "text": [
      "  8%|▊         | 4750/60000 [15:25<3:03:32,  5.02it/s]"
     ]
    },
    {
     "name": "stdout",
     "output_type": "stream",
     "text": [
      "\n",
      "All activity Acc: 13.60 (last), 15.81 (average), 42.40 (best)\n",
      "Proportion weighting Acc: 12.00 (last), 15.73 (average), 42.00 (best)\n",
      "\n"
     ]
    },
    {
     "name": "stderr",
     "output_type": "stream",
     "text": [
      "  8%|▊         | 5000/60000 [16:15<3:02:54,  5.01it/s]"
     ]
    },
    {
     "name": "stdout",
     "output_type": "stream",
     "text": [
      "\n",
      "All activity Acc: 16.00 (last), 15.82 (average), 42.40 (best)\n",
      "Proportion weighting Acc: 16.80 (last), 15.78 (average), 42.00 (best)\n",
      "\n"
     ]
    },
    {
     "name": "stderr",
     "output_type": "stream",
     "text": [
      "  9%|▉         | 5250/60000 [17:04<3:02:10,  5.01it/s]"
     ]
    },
    {
     "name": "stdout",
     "output_type": "stream",
     "text": [
      "\n",
      "All activity Acc: 20.80 (last), 16.06 (average), 42.40 (best)\n",
      "Proportion weighting Acc: 22.40 (last), 16.10 (average), 42.00 (best)\n",
      "\n"
     ]
    },
    {
     "name": "stderr",
     "output_type": "stream",
     "text": [
      "  9%|▉         | 5501/60000 [17:54<2:54:27,  5.21it/s]"
     ]
    },
    {
     "name": "stdout",
     "output_type": "stream",
     "text": [
      "\n",
      "All activity Acc: 16.80 (last), 16.09 (average), 42.40 (best)\n",
      "Proportion weighting Acc: 16.00 (last), 16.09 (average), 42.00 (best)\n",
      "\n"
     ]
    },
    {
     "name": "stderr",
     "output_type": "stream",
     "text": [
      " 10%|▉         | 5751/60000 [18:41<2:53:31,  5.21it/s]"
     ]
    },
    {
     "name": "stdout",
     "output_type": "stream",
     "text": [
      "\n",
      "All activity Acc: 26.80 (last), 16.56 (average), 42.40 (best)\n",
      "Proportion weighting Acc: 28.40 (last), 16.63 (average), 42.00 (best)\n",
      "\n"
     ]
    },
    {
     "name": "stderr",
     "output_type": "stream",
     "text": [
      " 10%|█         | 6001/60000 [19:29<2:52:54,  5.21it/s]"
     ]
    },
    {
     "name": "stdout",
     "output_type": "stream",
     "text": [
      "\n",
      "All activity Acc: 20.80 (last), 16.73 (average), 42.40 (best)\n",
      "Proportion weighting Acc: 17.20 (last), 16.65 (average), 42.00 (best)\n",
      "\n"
     ]
    },
    {
     "name": "stderr",
     "output_type": "stream",
     "text": [
      " 10%|█         | 6251/60000 [20:17<2:55:39,  5.10it/s]"
     ]
    },
    {
     "name": "stdout",
     "output_type": "stream",
     "text": [
      "\n",
      "All activity Acc: 20.00 (last), 16.86 (average), 42.40 (best)\n",
      "Proportion weighting Acc: 16.00 (last), 16.62 (average), 42.00 (best)\n",
      "\n"
     ]
    },
    {
     "name": "stderr",
     "output_type": "stream",
     "text": [
      " 11%|█         | 6501/60000 [21:05<2:53:16,  5.15it/s]"
     ]
    },
    {
     "name": "stdout",
     "output_type": "stream",
     "text": [
      "\n",
      "All activity Acc: 22.40 (last), 17.08 (average), 42.40 (best)\n",
      "Proportion weighting Acc: 23.20 (last), 16.88 (average), 42.00 (best)\n",
      "\n"
     ]
    },
    {
     "name": "stderr",
     "output_type": "stream",
     "text": [
      " 11%|█▏        | 6751/60000 [21:53<2:52:45,  5.14it/s]"
     ]
    },
    {
     "name": "stdout",
     "output_type": "stream",
     "text": [
      "\n",
      "All activity Acc: 30.00 (last), 17.56 (average), 42.40 (best)\n",
      "Proportion weighting Acc: 30.80 (last), 17.39 (average), 42.00 (best)\n",
      "\n"
     ]
    },
    {
     "name": "stderr",
     "output_type": "stream",
     "text": [
      " 12%|█▏        | 7001/60000 [22:43<3:00:25,  4.90it/s]"
     ]
    },
    {
     "name": "stdout",
     "output_type": "stream",
     "text": [
      "\n",
      "All activity Acc: 20.80 (last), 17.67 (average), 42.40 (best)\n",
      "Proportion weighting Acc: 21.20 (last), 17.53 (average), 42.00 (best)\n",
      "\n"
     ]
    },
    {
     "name": "stderr",
     "output_type": "stream",
     "text": [
      " 12%|█▏        | 7250/60000 [23:35<2:54:16,  5.04it/s]"
     ]
    },
    {
     "name": "stdout",
     "output_type": "stream",
     "text": [
      "\n",
      "All activity Acc: 19.60 (last), 17.74 (average), 42.40 (best)\n",
      "Proportion weighting Acc: 19.60 (last), 17.60 (average), 42.00 (best)\n",
      "\n"
     ]
    },
    {
     "name": "stderr",
     "output_type": "stream",
     "text": [
      " 12%|█▎        | 7500/60000 [24:25<2:54:21,  5.02it/s]"
     ]
    },
    {
     "name": "stdout",
     "output_type": "stream",
     "text": [
      "\n",
      "All activity Acc: 26.00 (last), 18.01 (average), 42.40 (best)\n",
      "Proportion weighting Acc: 26.40 (last), 17.89 (average), 42.00 (best)\n",
      "\n"
     ]
    },
    {
     "name": "stderr",
     "output_type": "stream",
     "text": [
      " 13%|█▎        | 7750/60000 [25:15<2:53:52,  5.01it/s]"
     ]
    },
    {
     "name": "stdout",
     "output_type": "stream",
     "text": [
      "\n",
      "All activity Acc: 30.40 (last), 18.41 (average), 42.40 (best)\n",
      "Proportion weighting Acc: 30.80 (last), 18.31 (average), 42.00 (best)\n",
      "\n"
     ]
    },
    {
     "name": "stderr",
     "output_type": "stream",
     "text": [
      " 13%|█▎        | 8000/60000 [26:04<2:52:54,  5.01it/s]"
     ]
    },
    {
     "name": "stdout",
     "output_type": "stream",
     "text": [
      "\n",
      "All activity Acc: 28.80 (last), 18.74 (average), 42.40 (best)\n",
      "Proportion weighting Acc: 30.40 (last), 18.69 (average), 42.00 (best)\n",
      "\n"
     ]
    },
    {
     "name": "stderr",
     "output_type": "stream",
     "text": [
      " 14%|█▍        | 8250/60000 [26:54<2:52:16,  5.01it/s]"
     ]
    },
    {
     "name": "stdout",
     "output_type": "stream",
     "text": [
      "\n",
      "All activity Acc: 28.80 (last), 19.04 (average), 42.40 (best)\n",
      "Proportion weighting Acc: 29.60 (last), 19.02 (average), 42.00 (best)\n",
      "\n"
     ]
    },
    {
     "name": "stderr",
     "output_type": "stream",
     "text": [
      " 14%|█▍        | 8501/60000 [27:43<2:49:02,  5.08it/s]"
     ]
    },
    {
     "name": "stdout",
     "output_type": "stream",
     "text": [
      "\n",
      "All activity Acc: 31.20 (last), 19.40 (average), 42.40 (best)\n",
      "Proportion weighting Acc: 31.60 (last), 19.39 (average), 42.00 (best)\n",
      "\n"
     ]
    },
    {
     "name": "stderr",
     "output_type": "stream",
     "text": [
      " 15%|█▍        | 8751/60000 [28:31<2:46:06,  5.14it/s]"
     ]
    },
    {
     "name": "stdout",
     "output_type": "stream",
     "text": [
      "\n",
      "All activity Acc: 19.60 (last), 19.41 (average), 42.40 (best)\n",
      "Proportion weighting Acc: 20.40 (last), 19.42 (average), 42.00 (best)\n",
      "\n"
     ]
    },
    {
     "name": "stderr",
     "output_type": "stream",
     "text": [
      " 15%|█▌        | 9000/60000 [29:20<2:50:42,  4.98it/s]"
     ]
    },
    {
     "name": "stdout",
     "output_type": "stream",
     "text": [
      "\n",
      "All activity Acc: 18.00 (last), 19.37 (average), 42.40 (best)\n",
      "Proportion weighting Acc: 18.80 (last), 19.40 (average), 42.00 (best)\n",
      "\n"
     ]
    },
    {
     "name": "stderr",
     "output_type": "stream",
     "text": [
      " 15%|█▌        | 9250/60000 [30:10<2:48:29,  5.02it/s]"
     ]
    },
    {
     "name": "stdout",
     "output_type": "stream",
     "text": [
      "\n",
      "All activity Acc: 21.20 (last), 19.42 (average), 42.40 (best)\n",
      "Proportion weighting Acc: 22.00 (last), 19.47 (average), 42.00 (best)\n",
      "\n"
     ]
    },
    {
     "name": "stderr",
     "output_type": "stream",
     "text": [
      " 16%|█▌        | 9500/60000 [31:00<2:47:46,  5.02it/s]"
     ]
    },
    {
     "name": "stdout",
     "output_type": "stream",
     "text": [
      "\n",
      "All activity Acc: 37.60 (last), 19.89 (average), 42.40 (best)\n",
      "Proportion weighting Acc: 40.00 (last), 20.01 (average), 42.00 (best)\n",
      "\n"
     ]
    },
    {
     "name": "stderr",
     "output_type": "stream",
     "text": [
      " 16%|█▋        | 9750/60000 [31:50<2:47:02,  5.01it/s]"
     ]
    },
    {
     "name": "stdout",
     "output_type": "stream",
     "text": [
      "\n",
      "All activity Acc: 40.00 (last), 20.41 (average), 42.40 (best)\n",
      "Proportion weighting Acc: 40.00 (last), 20.52 (average), 42.00 (best)\n",
      "\n"
     ]
    },
    {
     "name": "stderr",
     "output_type": "stream",
     "text": [
      " 17%|█▋        | 10000/60000 [32:40<2:44:42,  5.06it/s]"
     ]
    },
    {
     "name": "stdout",
     "output_type": "stream",
     "text": [
      "\n",
      "All activity Acc: 44.40 (last), 21.01 (average), 44.40 (best)\n",
      "Proportion weighting Acc: 48.00 (last), 21.21 (average), 48.00 (best)\n",
      "\n"
     ]
    },
    {
     "name": "stderr",
     "output_type": "stream",
     "text": [
      " 17%|█▋        | 10251/60000 [33:28<2:39:51,  5.19it/s]"
     ]
    },
    {
     "name": "stdout",
     "output_type": "stream",
     "text": [
      "\n",
      "All activity Acc: 48.00 (last), 21.67 (average), 48.00 (best)\n",
      "Proportion weighting Acc: 46.00 (last), 21.81 (average), 48.00 (best)\n",
      "\n"
     ]
    },
    {
     "name": "stderr",
     "output_type": "stream",
     "text": [
      " 18%|█▊        | 10501/60000 [34:16<2:39:15,  5.18it/s]"
     ]
    },
    {
     "name": "stdout",
     "output_type": "stream",
     "text": [
      "\n",
      "All activity Acc: 26.80 (last), 21.79 (average), 48.00 (best)\n",
      "Proportion weighting Acc: 26.00 (last), 21.91 (average), 48.00 (best)\n",
      "\n"
     ]
    },
    {
     "name": "stderr",
     "output_type": "stream",
     "text": [
      " 18%|█▊        | 10751/60000 [35:03<2:38:22,  5.18it/s]"
     ]
    },
    {
     "name": "stdout",
     "output_type": "stream",
     "text": [
      "\n",
      "All activity Acc: 28.40 (last), 21.94 (average), 48.00 (best)\n",
      "Proportion weighting Acc: 28.00 (last), 22.06 (average), 48.00 (best)\n",
      "\n"
     ]
    },
    {
     "name": "stderr",
     "output_type": "stream",
     "text": [
      " 18%|█▊        | 11001/60000 [35:51<2:37:43,  5.18it/s]"
     ]
    },
    {
     "name": "stdout",
     "output_type": "stream",
     "text": [
      "\n",
      "All activity Acc: 39.60 (last), 22.35 (average), 48.00 (best)\n",
      "Proportion weighting Acc: 43.20 (last), 22.54 (average), 48.00 (best)\n",
      "\n"
     ]
    },
    {
     "name": "stderr",
     "output_type": "stream",
     "text": [
      " 19%|█▉        | 11251/60000 [36:38<2:36:33,  5.19it/s]"
     ]
    },
    {
     "name": "stdout",
     "output_type": "stream",
     "text": [
      "\n",
      "All activity Acc: 48.00 (last), 22.92 (average), 48.00 (best)\n",
      "Proportion weighting Acc: 49.20 (last), 23.13 (average), 49.20 (best)\n",
      "\n"
     ]
    },
    {
     "name": "stderr",
     "output_type": "stream",
     "text": [
      " 19%|█▉        | 11501/60000 [37:26<2:36:07,  5.18it/s]"
     ]
    },
    {
     "name": "stdout",
     "output_type": "stream",
     "text": [
      "\n",
      "All activity Acc: 30.00 (last), 23.07 (average), 48.00 (best)\n",
      "Proportion weighting Acc: 30.40 (last), 23.29 (average), 49.20 (best)\n",
      "\n"
     ]
    },
    {
     "name": "stderr",
     "output_type": "stream",
     "text": [
      " 20%|█▉        | 11751/60000 [38:13<2:35:11,  5.18it/s]"
     ]
    },
    {
     "name": "stdout",
     "output_type": "stream",
     "text": [
      "\n",
      "All activity Acc: 20.80 (last), 23.02 (average), 48.00 (best)\n",
      "Proportion weighting Acc: 20.40 (last), 23.23 (average), 49.20 (best)\n",
      "\n"
     ]
    },
    {
     "name": "stderr",
     "output_type": "stream",
     "text": [
      " 20%|██        | 12001/60000 [39:01<2:34:34,  5.18it/s]"
     ]
    },
    {
     "name": "stdout",
     "output_type": "stream",
     "text": [
      "\n",
      "All activity Acc: 20.80 (last), 22.98 (average), 48.00 (best)\n",
      "Proportion weighting Acc: 20.40 (last), 23.17 (average), 49.20 (best)\n",
      "\n"
     ]
    },
    {
     "name": "stderr",
     "output_type": "stream",
     "text": [
      " 20%|██        | 12251/60000 [39:48<2:33:48,  5.17it/s]"
     ]
    },
    {
     "name": "stdout",
     "output_type": "stream",
     "text": [
      "\n",
      "All activity Acc: 24.80 (last), 23.01 (average), 48.00 (best)\n",
      "Proportion weighting Acc: 29.20 (last), 23.29 (average), 49.20 (best)\n",
      "\n"
     ]
    },
    {
     "name": "stderr",
     "output_type": "stream",
     "text": [
      " 21%|██        | 12501/60000 [40:36<2:33:06,  5.17it/s]"
     ]
    },
    {
     "name": "stdout",
     "output_type": "stream",
     "text": [
      "\n",
      "All activity Acc: 24.40 (last), 23.04 (average), 48.00 (best)\n",
      "Proportion weighting Acc: 25.60 (last), 23.34 (average), 49.20 (best)\n",
      "\n"
     ]
    },
    {
     "name": "stderr",
     "output_type": "stream",
     "text": [
      " 21%|██▏       | 12751/60000 [41:24<2:38:55,  4.96it/s]"
     ]
    },
    {
     "name": "stdout",
     "output_type": "stream",
     "text": [
      "\n",
      "All activity Acc: 16.40 (last), 22.91 (average), 48.00 (best)\n",
      "Proportion weighting Acc: 16.80 (last), 23.21 (average), 49.20 (best)\n",
      "\n"
     ]
    },
    {
     "name": "stderr",
     "output_type": "stream",
     "text": [
      " 22%|██▏       | 13001/60000 [42:07<2:17:17,  5.71it/s]"
     ]
    },
    {
     "name": "stdout",
     "output_type": "stream",
     "text": [
      "\n",
      "All activity Acc: 34.00 (last), 23.12 (average), 48.00 (best)\n",
      "Proportion weighting Acc: 36.40 (last), 23.46 (average), 49.20 (best)\n",
      "\n"
     ]
    },
    {
     "name": "stderr",
     "output_type": "stream",
     "text": [
      " 22%|██▏       | 13251/60000 [42:51<2:15:56,  5.73it/s]"
     ]
    },
    {
     "name": "stdout",
     "output_type": "stream",
     "text": [
      "\n",
      "All activity Acc: 43.20 (last), 23.50 (average), 48.00 (best)\n",
      "Proportion weighting Acc: 43.60 (last), 23.84 (average), 49.20 (best)\n",
      "\n"
     ]
    },
    {
     "name": "stderr",
     "output_type": "stream",
     "text": [
      " 23%|██▎       | 13501/60000 [43:34<2:16:02,  5.70it/s]"
     ]
    },
    {
     "name": "stdout",
     "output_type": "stream",
     "text": [
      "\n",
      "All activity Acc: 40.40 (last), 23.81 (average), 48.00 (best)\n",
      "Proportion weighting Acc: 42.80 (last), 24.19 (average), 49.20 (best)\n",
      "\n"
     ]
    },
    {
     "name": "stderr",
     "output_type": "stream",
     "text": [
      " 23%|██▎       | 13750/60000 [44:23<2:33:52,  5.01it/s]"
     ]
    },
    {
     "name": "stdout",
     "output_type": "stream",
     "text": [
      "\n",
      "All activity Acc: 22.00 (last), 23.78 (average), 48.00 (best)\n",
      "Proportion weighting Acc: 22.80 (last), 24.17 (average), 49.20 (best)\n",
      "\n"
     ]
    },
    {
     "name": "stderr",
     "output_type": "stream",
     "text": [
      " 23%|██▎       | 14000/60000 [45:12<2:32:54,  5.01it/s]"
     ]
    },
    {
     "name": "stdout",
     "output_type": "stream",
     "text": [
      "\n",
      "All activity Acc: 46.80 (last), 24.19 (average), 48.00 (best)\n",
      "Proportion weighting Acc: 51.60 (last), 24.66 (average), 51.60 (best)\n",
      "\n"
     ]
    },
    {
     "name": "stderr",
     "output_type": "stream",
     "text": [
      " 24%|██▎       | 14113/60000 [45:35<2:33:59,  4.97it/s]"
     ]
    }
   ],
   "source": [
    "stdp_model.Network()"
   ]
  },
  {
   "cell_type": "code",
   "execution_count": null,
   "metadata": {},
   "outputs": [],
   "source": []
  }
 ],
 "metadata": {
  "kernelspec": {
   "display_name": "research",
   "language": "python",
   "name": "python3"
  },
  "language_info": {
   "codemirror_mode": {
    "name": "ipython",
    "version": 3
   },
   "file_extension": ".py",
   "mimetype": "text/x-python",
   "name": "python",
   "nbconvert_exporter": "python",
   "pygments_lexer": "ipython3",
   "version": "3.8.17"
  },
  "orig_nbformat": 4
 },
 "nbformat": 4,
 "nbformat_minor": 2
}
