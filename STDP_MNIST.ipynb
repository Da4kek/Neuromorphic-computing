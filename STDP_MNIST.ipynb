{
 "cells": [
  {
   "cell_type": "code",
   "execution_count": 1,
   "metadata": {},
   "outputs": [],
   "source": [
    "from Models.STDP import STDP"
   ]
  },
  {
   "cell_type": "code",
   "execution_count": 2,
   "metadata": {},
   "outputs": [],
   "source": [
    "stdp_model = STDP.Stdp(gpu=False,n_workers=4)"
   ]
  },
  {
   "cell_type": "code",
   "execution_count": 3,
   "metadata": {},
   "outputs": [
    {
     "name": "stdout",
     "output_type": "stream",
     "text": [
      "Running on device=  cpu\n",
      "Running on device=  cpu\n",
      "\n",
      "Begin training.\n",
      "\n",
      "Progress: 0 / 1 (0.0000 seconds)\n",
      "Running on device=  cpu\n"
     ]
    },
    {
     "name": "stderr",
     "output_type": "stream",
     "text": [
      "  0%|          | 250/60000 [00:50<3:19:21,  5.00it/s]"
     ]
    },
    {
     "name": "stdout",
     "output_type": "stream",
     "text": [
      "\n",
      "All activity Acc: 9.60 (last), 9.60 (average), 9.60 (best)\n",
      "Proportion weighting Acc: 9.60 (last), 9.60 (average), 9.60 (best)\n",
      "\n"
     ]
    },
    {
     "name": "stderr",
     "output_type": "stream",
     "text": [
      "  1%|          | 500/60000 [01:41<3:21:44,  4.92it/s]"
     ]
    },
    {
     "name": "stdout",
     "output_type": "stream",
     "text": [
      "\n",
      "All activity Acc: 12.00 (last), 10.80 (average), 12.00 (best)\n",
      "Proportion weighting Acc: 12.00 (last), 10.80 (average), 12.00 (best)\n",
      "\n"
     ]
    },
    {
     "name": "stderr",
     "output_type": "stream",
     "text": [
      "  1%|▏         | 750/60000 [02:31<3:17:56,  4.99it/s]"
     ]
    },
    {
     "name": "stdout",
     "output_type": "stream",
     "text": [
      "\n",
      "All activity Acc: 10.40 (last), 10.67 (average), 12.00 (best)\n",
      "Proportion weighting Acc: 10.80 (last), 10.80 (average), 12.00 (best)\n",
      "\n"
     ]
    },
    {
     "name": "stderr",
     "output_type": "stream",
     "text": [
      "  2%|▏         | 1000/60000 [03:21<3:18:27,  4.95it/s]"
     ]
    },
    {
     "name": "stdout",
     "output_type": "stream",
     "text": [
      "\n",
      "All activity Acc: 10.00 (last), 10.50 (average), 12.00 (best)\n",
      "Proportion weighting Acc: 10.00 (last), 10.60 (average), 12.00 (best)\n",
      "\n"
     ]
    },
    {
     "name": "stderr",
     "output_type": "stream",
     "text": [
      "  2%|▏         | 1250/60000 [04:12<3:16:36,  4.98it/s]"
     ]
    },
    {
     "name": "stdout",
     "output_type": "stream",
     "text": [
      "\n",
      "All activity Acc: 9.20 (last), 10.24 (average), 12.00 (best)\n",
      "Proportion weighting Acc: 9.20 (last), 10.32 (average), 12.00 (best)\n",
      "\n"
     ]
    },
    {
     "name": "stderr",
     "output_type": "stream",
     "text": [
      "  2%|▎         | 1500/60000 [05:02<3:15:50,  4.98it/s]"
     ]
    },
    {
     "name": "stdout",
     "output_type": "stream",
     "text": [
      "\n",
      "All activity Acc: 15.60 (last), 11.13 (average), 15.60 (best)\n",
      "Proportion weighting Acc: 15.20 (last), 11.13 (average), 15.20 (best)\n",
      "\n"
     ]
    },
    {
     "name": "stderr",
     "output_type": "stream",
     "text": [
      "  3%|▎         | 1750/60000 [05:52<3:14:33,  4.99it/s]"
     ]
    },
    {
     "name": "stdout",
     "output_type": "stream",
     "text": [
      "\n",
      "All activity Acc: 12.40 (last), 11.31 (average), 15.60 (best)\n",
      "Proportion weighting Acc: 12.80 (last), 11.37 (average), 15.20 (best)\n",
      "\n"
     ]
    },
    {
     "name": "stderr",
     "output_type": "stream",
     "text": [
      "  3%|▎         | 2000/60000 [06:43<3:14:43,  4.96it/s]"
     ]
    },
    {
     "name": "stdout",
     "output_type": "stream",
     "text": [
      "\n",
      "All activity Acc: 10.80 (last), 11.25 (average), 15.60 (best)\n",
      "Proportion weighting Acc: 11.20 (last), 11.35 (average), 15.20 (best)\n",
      "\n"
     ]
    },
    {
     "name": "stderr",
     "output_type": "stream",
     "text": [
      "  4%|▍         | 2251/60000 [07:32<3:07:26,  5.14it/s]"
     ]
    },
    {
     "name": "stdout",
     "output_type": "stream",
     "text": [
      "\n",
      "All activity Acc: 13.60 (last), 11.51 (average), 15.60 (best)\n",
      "Proportion weighting Acc: 13.60 (last), 11.60 (average), 15.20 (best)\n",
      "\n"
     ]
    },
    {
     "name": "stderr",
     "output_type": "stream",
     "text": [
      "  4%|▍         | 2501/60000 [08:20<3:07:18,  5.12it/s]"
     ]
    },
    {
     "name": "stdout",
     "output_type": "stream",
     "text": [
      "\n",
      "All activity Acc: 12.40 (last), 11.60 (average), 15.60 (best)\n",
      "Proportion weighting Acc: 12.00 (last), 11.64 (average), 15.20 (best)\n",
      "\n"
     ]
    },
    {
     "name": "stderr",
     "output_type": "stream",
     "text": [
      "  5%|▍         | 2751/60000 [09:08<3:05:17,  5.15it/s]"
     ]
    },
    {
     "name": "stdout",
     "output_type": "stream",
     "text": [
      "\n",
      "All activity Acc: 18.40 (last), 12.22 (average), 18.40 (best)\n",
      "Proportion weighting Acc: 18.40 (last), 12.25 (average), 18.40 (best)\n",
      "\n"
     ]
    },
    {
     "name": "stderr",
     "output_type": "stream",
     "text": [
      "  5%|▌         | 3001/60000 [09:56<3:06:36,  5.09it/s]"
     ]
    },
    {
     "name": "stdout",
     "output_type": "stream",
     "text": [
      "\n",
      "All activity Acc: 11.60 (last), 12.17 (average), 18.40 (best)\n",
      "Proportion weighting Acc: 11.60 (last), 12.20 (average), 18.40 (best)\n",
      "\n"
     ]
    },
    {
     "name": "stderr",
     "output_type": "stream",
     "text": [
      "  5%|▌         | 3251/60000 [10:44<3:03:09,  5.16it/s]"
     ]
    },
    {
     "name": "stdout",
     "output_type": "stream",
     "text": [
      "\n",
      "All activity Acc: 18.00 (last), 12.62 (average), 18.40 (best)\n",
      "Proportion weighting Acc: 18.40 (last), 12.68 (average), 18.40 (best)\n",
      "\n"
     ]
    },
    {
     "name": "stderr",
     "output_type": "stream",
     "text": [
      "  6%|▌         | 3501/60000 [11:32<3:02:22,  5.16it/s]"
     ]
    },
    {
     "name": "stdout",
     "output_type": "stream",
     "text": [
      "\n",
      "All activity Acc: 16.80 (last), 12.91 (average), 18.40 (best)\n",
      "Proportion weighting Acc: 16.80 (last), 12.97 (average), 18.40 (best)\n",
      "\n"
     ]
    },
    {
     "name": "stderr",
     "output_type": "stream",
     "text": [
      "  6%|▋         | 3751/60000 [12:19<3:01:54,  5.15it/s]"
     ]
    },
    {
     "name": "stdout",
     "output_type": "stream",
     "text": [
      "\n",
      "All activity Acc: 21.60 (last), 13.49 (average), 21.60 (best)\n",
      "Proportion weighting Acc: 21.60 (last), 13.55 (average), 21.60 (best)\n",
      "\n"
     ]
    },
    {
     "name": "stderr",
     "output_type": "stream",
     "text": [
      "  7%|▋         | 4000/60000 [13:08<3:05:11,  5.04it/s]"
     ]
    },
    {
     "name": "stdout",
     "output_type": "stream",
     "text": [
      "\n",
      "All activity Acc: 23.20 (last), 14.10 (average), 23.20 (best)\n",
      "Proportion weighting Acc: 23.60 (last), 14.18 (average), 23.60 (best)\n",
      "\n"
     ]
    },
    {
     "name": "stderr",
     "output_type": "stream",
     "text": [
      "  7%|▋         | 4250/60000 [13:57<3:04:20,  5.04it/s]"
     ]
    },
    {
     "name": "stdout",
     "output_type": "stream",
     "text": [
      "\n",
      "All activity Acc: 34.80 (last), 15.32 (average), 34.80 (best)\n",
      "Proportion weighting Acc: 36.00 (last), 15.46 (average), 36.00 (best)\n",
      "\n"
     ]
    },
    {
     "name": "stderr",
     "output_type": "stream",
     "text": [
      "  8%|▊         | 4500/60000 [14:47<3:05:59,  4.97it/s]"
     ]
    },
    {
     "name": "stdout",
     "output_type": "stream",
     "text": [
      "\n",
      "All activity Acc: 23.20 (last), 15.76 (average), 34.80 (best)\n",
      "Proportion weighting Acc: 22.80 (last), 15.87 (average), 36.00 (best)\n",
      "\n"
     ]
    },
    {
     "name": "stderr",
     "output_type": "stream",
     "text": [
      "  8%|▊         | 4750/60000 [15:37<3:02:43,  5.04it/s]"
     ]
    },
    {
     "name": "stdout",
     "output_type": "stream",
     "text": [
      "\n",
      "All activity Acc: 17.20 (last), 15.83 (average), 34.80 (best)\n",
      "Proportion weighting Acc: 15.20 (last), 15.83 (average), 36.00 (best)\n",
      "\n"
     ]
    },
    {
     "name": "stderr",
     "output_type": "stream",
     "text": [
      "  8%|▊         | 5000/60000 [16:27<3:03:02,  5.01it/s]"
     ]
    },
    {
     "name": "stdout",
     "output_type": "stream",
     "text": [
      "\n",
      "All activity Acc: 38.40 (last), 16.96 (average), 38.40 (best)\n",
      "Proportion weighting Acc: 37.60 (last), 16.92 (average), 37.60 (best)\n",
      "\n"
     ]
    },
    {
     "name": "stderr",
     "output_type": "stream",
     "text": [
      "  9%|▉         | 5251/60000 [17:16<2:59:24,  5.09it/s]"
     ]
    },
    {
     "name": "stdout",
     "output_type": "stream",
     "text": [
      "\n",
      "All activity Acc: 14.00 (last), 16.82 (average), 38.40 (best)\n",
      "Proportion weighting Acc: 14.00 (last), 16.78 (average), 37.60 (best)\n",
      "\n"
     ]
    },
    {
     "name": "stderr",
     "output_type": "stream",
     "text": [
      "  9%|▉         | 5501/60000 [18:04<2:57:15,  5.12it/s]"
     ]
    },
    {
     "name": "stdout",
     "output_type": "stream",
     "text": [
      "\n",
      "All activity Acc: 15.60 (last), 16.76 (average), 38.40 (best)\n",
      "Proportion weighting Acc: 15.60 (last), 16.73 (average), 37.60 (best)\n",
      "\n"
     ]
    },
    {
     "name": "stderr",
     "output_type": "stream",
     "text": [
      " 10%|▉         | 5751/60000 [18:52<2:56:50,  5.11it/s]"
     ]
    },
    {
     "name": "stdout",
     "output_type": "stream",
     "text": [
      "\n",
      "All activity Acc: 29.60 (last), 17.32 (average), 38.40 (best)\n",
      "Proportion weighting Acc: 29.60 (last), 17.29 (average), 37.60 (best)\n",
      "\n"
     ]
    },
    {
     "name": "stderr",
     "output_type": "stream",
     "text": [
      " 10%|█         | 6001/60000 [19:40<2:56:06,  5.11it/s]"
     ]
    },
    {
     "name": "stdout",
     "output_type": "stream",
     "text": [
      "\n",
      "All activity Acc: 22.80 (last), 17.55 (average), 38.40 (best)\n",
      "Proportion weighting Acc: 22.80 (last), 17.52 (average), 37.60 (best)\n",
      "\n"
     ]
    },
    {
     "name": "stderr",
     "output_type": "stream",
     "text": [
      " 10%|█         | 6251/60000 [20:29<2:54:48,  5.12it/s]"
     ]
    },
    {
     "name": "stdout",
     "output_type": "stream",
     "text": [
      "\n",
      "All activity Acc: 21.20 (last), 17.70 (average), 38.40 (best)\n",
      "Proportion weighting Acc: 18.00 (last), 17.54 (average), 37.60 (best)\n",
      "\n"
     ]
    },
    {
     "name": "stderr",
     "output_type": "stream",
     "text": [
      " 11%|█         | 6501/60000 [21:18<2:56:18,  5.06it/s]"
     ]
    },
    {
     "name": "stdout",
     "output_type": "stream",
     "text": [
      "\n",
      "All activity Acc: 19.60 (last), 17.77 (average), 38.40 (best)\n",
      "Proportion weighting Acc: 21.20 (last), 17.68 (average), 37.60 (best)\n",
      "\n"
     ]
    },
    {
     "name": "stderr",
     "output_type": "stream",
     "text": [
      " 11%|█▏        | 6751/60000 [22:06<2:53:34,  5.11it/s]"
     ]
    },
    {
     "name": "stdout",
     "output_type": "stream",
     "text": [
      "\n",
      "All activity Acc: 31.60 (last), 18.28 (average), 38.40 (best)\n",
      "Proportion weighting Acc: 32.40 (last), 18.22 (average), 37.60 (best)\n",
      "\n"
     ]
    },
    {
     "name": "stderr",
     "output_type": "stream",
     "text": [
      " 12%|█▏        | 7001/60000 [22:54<2:53:42,  5.08it/s]"
     ]
    },
    {
     "name": "stdout",
     "output_type": "stream",
     "text": [
      "\n",
      "All activity Acc: 22.00 (last), 18.41 (average), 38.40 (best)\n",
      "Proportion weighting Acc: 22.40 (last), 18.37 (average), 37.60 (best)\n",
      "\n"
     ]
    },
    {
     "name": "stderr",
     "output_type": "stream",
     "text": [
      " 12%|█▏        | 7251/60000 [23:43<2:51:59,  5.11it/s]"
     ]
    },
    {
     "name": "stdout",
     "output_type": "stream",
     "text": [
      "\n",
      "All activity Acc: 19.60 (last), 18.46 (average), 38.40 (best)\n",
      "Proportion weighting Acc: 19.60 (last), 18.41 (average), 37.60 (best)\n",
      "\n"
     ]
    },
    {
     "name": "stderr",
     "output_type": "stream",
     "text": [
      " 13%|█▎        | 7501/60000 [24:29<2:35:45,  5.62it/s]"
     ]
    },
    {
     "name": "stdout",
     "output_type": "stream",
     "text": [
      "\n",
      "All activity Acc: 20.00 (last), 18.51 (average), 38.40 (best)\n",
      "Proportion weighting Acc: 20.80 (last), 18.49 (average), 37.60 (best)\n",
      "\n"
     ]
    },
    {
     "name": "stderr",
     "output_type": "stream",
     "text": [
      " 13%|█▎        | 7751/60000 [25:16<2:50:48,  5.10it/s]"
     ]
    },
    {
     "name": "stdout",
     "output_type": "stream",
     "text": [
      "\n",
      "All activity Acc: 18.40 (last), 18.50 (average), 38.40 (best)\n",
      "Proportion weighting Acc: 20.80 (last), 18.57 (average), 37.60 (best)\n",
      "\n"
     ]
    },
    {
     "name": "stderr",
     "output_type": "stream",
     "text": [
      " 13%|█▎        | 8001/60000 [26:04<2:49:56,  5.10it/s]"
     ]
    },
    {
     "name": "stdout",
     "output_type": "stream",
     "text": [
      "\n",
      "All activity Acc: 28.40 (last), 18.81 (average), 38.40 (best)\n",
      "Proportion weighting Acc: 30.00 (last), 18.92 (average), 37.60 (best)\n",
      "\n"
     ]
    },
    {
     "name": "stderr",
     "output_type": "stream",
     "text": [
      " 14%|█▍        | 8251/60000 [26:52<2:49:14,  5.10it/s]"
     ]
    },
    {
     "name": "stdout",
     "output_type": "stream",
     "text": [
      "\n",
      "All activity Acc: 31.20 (last), 19.19 (average), 38.40 (best)\n",
      "Proportion weighting Acc: 30.80 (last), 19.28 (average), 37.60 (best)\n",
      "\n"
     ]
    },
    {
     "name": "stderr",
     "output_type": "stream",
     "text": [
      " 14%|█▍        | 8501/60000 [27:41<2:48:26,  5.10it/s]"
     ]
    },
    {
     "name": "stdout",
     "output_type": "stream",
     "text": [
      "\n",
      "All activity Acc: 33.20 (last), 19.60 (average), 38.40 (best)\n",
      "Proportion weighting Acc: 36.00 (last), 19.78 (average), 37.60 (best)\n",
      "\n"
     ]
    },
    {
     "name": "stderr",
     "output_type": "stream",
     "text": [
      " 15%|█▍        | 8751/60000 [28:29<2:47:09,  5.11it/s]"
     ]
    },
    {
     "name": "stdout",
     "output_type": "stream",
     "text": [
      "\n",
      "All activity Acc: 35.60 (last), 20.06 (average), 38.40 (best)\n",
      "Proportion weighting Acc: 39.20 (last), 20.33 (average), 39.20 (best)\n",
      "\n"
     ]
    },
    {
     "name": "stderr",
     "output_type": "stream",
     "text": [
      " 15%|█▌        | 9001/60000 [29:17<2:47:48,  5.07it/s]"
     ]
    },
    {
     "name": "stdout",
     "output_type": "stream",
     "text": [
      "\n",
      "All activity Acc: 33.20 (last), 20.42 (average), 38.40 (best)\n",
      "Proportion weighting Acc: 36.00 (last), 20.77 (average), 39.20 (best)\n",
      "\n"
     ]
    },
    {
     "name": "stderr",
     "output_type": "stream",
     "text": [
      " 15%|█▌        | 9251/60000 [30:05<2:44:32,  5.14it/s]"
     ]
    },
    {
     "name": "stdout",
     "output_type": "stream",
     "text": [
      "\n",
      "All activity Acc: 16.80 (last), 20.32 (average), 38.40 (best)\n",
      "Proportion weighting Acc: 16.80 (last), 20.66 (average), 39.20 (best)\n",
      "\n"
     ]
    },
    {
     "name": "stderr",
     "output_type": "stream",
     "text": [
      " 16%|█▌        | 9501/60000 [30:53<2:43:10,  5.16it/s]"
     ]
    },
    {
     "name": "stdout",
     "output_type": "stream",
     "text": [
      "\n",
      "All activity Acc: 24.40 (last), 20.43 (average), 38.40 (best)\n",
      "Proportion weighting Acc: 26.00 (last), 20.80 (average), 39.20 (best)\n",
      "\n"
     ]
    },
    {
     "name": "stderr",
     "output_type": "stream",
     "text": [
      " 16%|█▋        | 9751/60000 [31:41<2:43:07,  5.13it/s]"
     ]
    },
    {
     "name": "stdout",
     "output_type": "stream",
     "text": [
      "\n",
      "All activity Acc: 32.80 (last), 20.75 (average), 38.40 (best)\n",
      "Proportion weighting Acc: 36.40 (last), 21.20 (average), 39.20 (best)\n",
      "\n"
     ]
    },
    {
     "name": "stderr",
     "output_type": "stream",
     "text": [
      " 17%|█▋        | 10000/60000 [32:30<2:48:00,  4.96it/s]"
     ]
    },
    {
     "name": "stdout",
     "output_type": "stream",
     "text": [
      "\n",
      "All activity Acc: 20.80 (last), 20.75 (average), 38.40 (best)\n",
      "Proportion weighting Acc: 22.00 (last), 21.22 (average), 39.20 (best)\n",
      "\n"
     ]
    },
    {
     "name": "stderr",
     "output_type": "stream",
     "text": [
      " 17%|█▋        | 10250/60000 [33:20<2:46:39,  4.98it/s]"
     ]
    },
    {
     "name": "stdout",
     "output_type": "stream",
     "text": [
      "\n",
      "All activity Acc: 34.40 (last), 21.08 (average), 38.40 (best)\n",
      "Proportion weighting Acc: 35.20 (last), 21.56 (average), 39.20 (best)\n",
      "\n"
     ]
    },
    {
     "name": "stderr",
     "output_type": "stream",
     "text": [
      " 18%|█▊        | 10500/60000 [34:11<2:46:12,  4.96it/s]"
     ]
    },
    {
     "name": "stdout",
     "output_type": "stream",
     "text": [
      "\n",
      "All activity Acc: 22.40 (last), 21.11 (average), 38.40 (best)\n",
      "Proportion weighting Acc: 24.00 (last), 21.62 (average), 39.20 (best)\n",
      "\n"
     ]
    },
    {
     "name": "stderr",
     "output_type": "stream",
     "text": [
      " 18%|█▊        | 10750/60000 [35:01<2:45:11,  4.97it/s]"
     ]
    },
    {
     "name": "stdout",
     "output_type": "stream",
     "text": [
      "\n",
      "All activity Acc: 26.00 (last), 21.23 (average), 38.40 (best)\n",
      "Proportion weighting Acc: 28.80 (last), 21.79 (average), 39.20 (best)\n",
      "\n"
     ]
    },
    {
     "name": "stderr",
     "output_type": "stream",
     "text": [
      " 18%|█▊        | 11000/60000 [35:52<2:44:29,  4.96it/s]"
     ]
    },
    {
     "name": "stdout",
     "output_type": "stream",
     "text": [
      "\n",
      "All activity Acc: 40.00 (last), 21.65 (average), 40.00 (best)\n",
      "Proportion weighting Acc: 42.00 (last), 22.25 (average), 42.00 (best)\n",
      "\n"
     ]
    },
    {
     "name": "stderr",
     "output_type": "stream",
     "text": [
      " 19%|█▉        | 11250/60000 [36:42<2:43:33,  4.97it/s]"
     ]
    },
    {
     "name": "stdout",
     "output_type": "stream",
     "text": [
      "\n",
      "All activity Acc: 31.60 (last), 21.88 (average), 40.00 (best)\n",
      "Proportion weighting Acc: 30.80 (last), 22.44 (average), 42.00 (best)\n",
      "\n"
     ]
    },
    {
     "name": "stderr",
     "output_type": "stream",
     "text": [
      " 19%|█▉        | 11500/60000 [37:32<2:42:43,  4.97it/s]"
     ]
    },
    {
     "name": "stdout",
     "output_type": "stream",
     "text": [
      "\n",
      "All activity Acc: 26.40 (last), 21.97 (average), 40.00 (best)\n",
      "Proportion weighting Acc: 22.80 (last), 22.44 (average), 42.00 (best)\n",
      "\n"
     ]
    },
    {
     "name": "stderr",
     "output_type": "stream",
     "text": [
      " 20%|█▉        | 11750/60000 [38:23<2:41:53,  4.97it/s]"
     ]
    },
    {
     "name": "stdout",
     "output_type": "stream",
     "text": [
      "\n",
      "All activity Acc: 14.40 (last), 21.81 (average), 40.00 (best)\n",
      "Proportion weighting Acc: 13.20 (last), 22.25 (average), 42.00 (best)\n",
      "\n"
     ]
    },
    {
     "name": "stderr",
     "output_type": "stream",
     "text": [
      " 20%|██        | 12000/60000 [39:13<2:41:04,  4.97it/s]"
     ]
    },
    {
     "name": "stdout",
     "output_type": "stream",
     "text": [
      "\n",
      "All activity Acc: 16.80 (last), 21.71 (average), 40.00 (best)\n",
      "Proportion weighting Acc: 16.80 (last), 22.13 (average), 42.00 (best)\n",
      "\n"
     ]
    },
    {
     "name": "stderr",
     "output_type": "stream",
     "text": [
      " 20%|██        | 12250/60000 [40:04<2:39:36,  4.99it/s]"
     ]
    },
    {
     "name": "stdout",
     "output_type": "stream",
     "text": [
      "\n",
      "All activity Acc: 27.20 (last), 21.82 (average), 40.00 (best)\n",
      "Proportion weighting Acc: 30.00 (last), 22.29 (average), 42.00 (best)\n",
      "\n"
     ]
    },
    {
     "name": "stderr",
     "output_type": "stream",
     "text": [
      " 21%|██        | 12500/60000 [40:54<2:39:10,  4.97it/s]"
     ]
    },
    {
     "name": "stdout",
     "output_type": "stream",
     "text": [
      "\n",
      "All activity Acc: 37.60 (last), 22.14 (average), 40.00 (best)\n",
      "Proportion weighting Acc: 38.40 (last), 22.62 (average), 42.00 (best)\n",
      "\n"
     ]
    },
    {
     "name": "stderr",
     "output_type": "stream",
     "text": [
      " 21%|██▏       | 12750/60000 [41:45<2:38:34,  4.97it/s]"
     ]
    },
    {
     "name": "stdout",
     "output_type": "stream",
     "text": [
      "\n",
      "All activity Acc: 30.80 (last), 22.31 (average), 40.00 (best)\n",
      "Proportion weighting Acc: 30.40 (last), 22.77 (average), 42.00 (best)\n",
      "\n"
     ]
    },
    {
     "name": "stderr",
     "output_type": "stream",
     "text": [
      " 22%|██▏       | 13001/60000 [42:34<2:35:02,  5.05it/s]"
     ]
    },
    {
     "name": "stdout",
     "output_type": "stream",
     "text": [
      "\n",
      "All activity Acc: 40.40 (last), 22.65 (average), 40.40 (best)\n",
      "Proportion weighting Acc: 42.40 (last), 23.15 (average), 42.40 (best)\n",
      "\n"
     ]
    },
    {
     "name": "stderr",
     "output_type": "stream",
     "text": [
      " 22%|██▏       | 13251/60000 [43:23<2:33:57,  5.06it/s]"
     ]
    },
    {
     "name": "stdout",
     "output_type": "stream",
     "text": [
      "\n",
      "All activity Acc: 29.60 (last), 22.78 (average), 40.40 (best)\n",
      "Proportion weighting Acc: 29.60 (last), 23.27 (average), 42.40 (best)\n",
      "\n"
     ]
    },
    {
     "name": "stderr",
     "output_type": "stream",
     "text": [
      " 23%|██▎       | 13501/60000 [44:11<2:31:34,  5.11it/s]"
     ]
    },
    {
     "name": "stdout",
     "output_type": "stream",
     "text": [
      "\n",
      "All activity Acc: 26.80 (last), 22.86 (average), 40.40 (best)\n",
      "Proportion weighting Acc: 27.20 (last), 23.34 (average), 42.40 (best)\n",
      "\n"
     ]
    },
    {
     "name": "stderr",
     "output_type": "stream",
     "text": [
      " 23%|██▎       | 13751/60000 [44:59<2:30:58,  5.11it/s]"
     ]
    },
    {
     "name": "stdout",
     "output_type": "stream",
     "text": [
      "\n",
      "All activity Acc: 45.60 (last), 23.27 (average), 45.60 (best)\n",
      "Proportion weighting Acc: 47.20 (last), 23.77 (average), 47.20 (best)\n",
      "\n"
     ]
    },
    {
     "name": "stderr",
     "output_type": "stream",
     "text": [
      " 23%|██▎       | 14001/60000 [45:47<2:30:08,  5.11it/s]"
     ]
    },
    {
     "name": "stdout",
     "output_type": "stream",
     "text": [
      "\n",
      "All activity Acc: 50.80 (last), 23.76 (average), 50.80 (best)\n",
      "Proportion weighting Acc: 53.60 (last), 24.31 (average), 53.60 (best)\n",
      "\n"
     ]
    },
    {
     "name": "stderr",
     "output_type": "stream",
     "text": [
      " 24%|██▍       | 14251/60000 [46:35<2:29:26,  5.10it/s]"
     ]
    },
    {
     "name": "stdout",
     "output_type": "stream",
     "text": [
      "\n",
      "All activity Acc: 31.60 (last), 23.90 (average), 50.80 (best)\n",
      "Proportion weighting Acc: 32.40 (last), 24.45 (average), 53.60 (best)\n",
      "\n"
     ]
    },
    {
     "name": "stderr",
     "output_type": "stream",
     "text": [
      " 24%|██▍       | 14501/60000 [47:23<2:28:23,  5.11it/s]"
     ]
    },
    {
     "name": "stdout",
     "output_type": "stream",
     "text": [
      "\n",
      "All activity Acc: 41.20 (last), 24.20 (average), 50.80 (best)\n",
      "Proportion weighting Acc: 46.80 (last), 24.83 (average), 53.60 (best)\n",
      "\n"
     ]
    },
    {
     "name": "stderr",
     "output_type": "stream",
     "text": [
      " 25%|██▍       | 14751/60000 [48:12<2:27:56,  5.10it/s]"
     ]
    },
    {
     "name": "stdout",
     "output_type": "stream",
     "text": [
      "\n",
      "All activity Acc: 31.20 (last), 24.32 (average), 50.80 (best)\n",
      "Proportion weighting Acc: 30.80 (last), 24.94 (average), 53.60 (best)\n",
      "\n"
     ]
    },
    {
     "name": "stderr",
     "output_type": "stream",
     "text": [
      " 25%|██▌       | 15001/60000 [49:00<2:27:17,  5.09it/s]"
     ]
    },
    {
     "name": "stdout",
     "output_type": "stream",
     "text": [
      "\n",
      "All activity Acc: 34.00 (last), 24.48 (average), 50.80 (best)\n",
      "Proportion weighting Acc: 36.00 (last), 25.12 (average), 53.60 (best)\n",
      "\n"
     ]
    },
    {
     "name": "stderr",
     "output_type": "stream",
     "text": [
      " 25%|██▌       | 15251/60000 [49:48<2:26:20,  5.10it/s]"
     ]
    },
    {
     "name": "stdout",
     "output_type": "stream",
     "text": [
      "\n",
      "All activity Acc: 40.00 (last), 24.73 (average), 50.80 (best)\n",
      "Proportion weighting Acc: 38.80 (last), 25.34 (average), 53.60 (best)\n",
      "\n"
     ]
    },
    {
     "name": "stderr",
     "output_type": "stream",
     "text": [
      " 26%|██▌       | 15501/60000 [50:37<2:25:30,  5.10it/s]"
     ]
    },
    {
     "name": "stdout",
     "output_type": "stream",
     "text": [
      "\n",
      "All activity Acc: 48.80 (last), 25.12 (average), 50.80 (best)\n",
      "Proportion weighting Acc: 52.80 (last), 25.79 (average), 53.60 (best)\n",
      "\n"
     ]
    },
    {
     "name": "stderr",
     "output_type": "stream",
     "text": [
      " 26%|██▋       | 15751/60000 [51:25<2:24:51,  5.09it/s]"
     ]
    },
    {
     "name": "stdout",
     "output_type": "stream",
     "text": [
      "\n",
      "All activity Acc: 55.60 (last), 25.61 (average), 55.60 (best)\n",
      "Proportion weighting Acc: 57.20 (last), 26.29 (average), 57.20 (best)\n",
      "\n"
     ]
    },
    {
     "name": "stderr",
     "output_type": "stream",
     "text": [
      " 27%|██▋       | 16001/60000 [52:13<2:24:06,  5.09it/s]"
     ]
    },
    {
     "name": "stdout",
     "output_type": "stream",
     "text": [
      "\n",
      "All activity Acc: 51.60 (last), 26.01 (average), 55.60 (best)\n",
      "Proportion weighting Acc: 54.00 (last), 26.72 (average), 57.20 (best)\n",
      "\n"
     ]
    },
    {
     "name": "stderr",
     "output_type": "stream",
     "text": [
      " 27%|██▋       | 16251/60000 [53:01<2:22:47,  5.11it/s]"
     ]
    },
    {
     "name": "stdout",
     "output_type": "stream",
     "text": [
      "\n",
      "All activity Acc: 32.00 (last), 26.10 (average), 55.60 (best)\n",
      "Proportion weighting Acc: 32.40 (last), 26.81 (average), 57.20 (best)\n",
      "\n"
     ]
    },
    {
     "name": "stderr",
     "output_type": "stream",
     "text": [
      " 28%|██▊       | 16501/60000 [53:50<2:22:18,  5.09it/s]"
     ]
    },
    {
     "name": "stdout",
     "output_type": "stream",
     "text": [
      "\n",
      "All activity Acc: 45.20 (last), 26.39 (average), 55.60 (best)\n",
      "Proportion weighting Acc: 46.00 (last), 27.10 (average), 57.20 (best)\n",
      "\n"
     ]
    },
    {
     "name": "stderr",
     "output_type": "stream",
     "text": [
      " 28%|██▊       | 16751/60000 [54:38<2:21:22,  5.10it/s]"
     ]
    },
    {
     "name": "stdout",
     "output_type": "stream",
     "text": [
      "\n",
      "All activity Acc: 34.80 (last), 26.52 (average), 55.60 (best)\n",
      "Proportion weighting Acc: 36.80 (last), 27.24 (average), 57.20 (best)\n",
      "\n"
     ]
    },
    {
     "name": "stderr",
     "output_type": "stream",
     "text": [
      " 28%|██▊       | 17001/60000 [55:26<2:20:44,  5.09it/s]"
     ]
    },
    {
     "name": "stdout",
     "output_type": "stream",
     "text": [
      "\n",
      "All activity Acc: 26.40 (last), 26.52 (average), 55.60 (best)\n",
      "Proportion weighting Acc: 27.60 (last), 27.25 (average), 57.20 (best)\n",
      "\n"
     ]
    },
    {
     "name": "stderr",
     "output_type": "stream",
     "text": [
      " 29%|██▉       | 17251/60000 [56:14<2:19:43,  5.10it/s]"
     ]
    },
    {
     "name": "stdout",
     "output_type": "stream",
     "text": [
      "\n",
      "All activity Acc: 20.80 (last), 26.43 (average), 55.60 (best)\n",
      "Proportion weighting Acc: 22.80 (last), 27.18 (average), 57.20 (best)\n",
      "\n"
     ]
    },
    {
     "name": "stderr",
     "output_type": "stream",
     "text": [
      " 29%|██▉       | 17501/60000 [57:03<2:19:18,  5.08it/s]"
     ]
    },
    {
     "name": "stdout",
     "output_type": "stream",
     "text": [
      "\n",
      "All activity Acc: 40.00 (last), 26.63 (average), 55.60 (best)\n",
      "Proportion weighting Acc: 43.20 (last), 27.41 (average), 57.20 (best)\n",
      "\n"
     ]
    },
    {
     "name": "stderr",
     "output_type": "stream",
     "text": [
      " 30%|██▉       | 17751/60000 [57:51<2:18:08,  5.10it/s]"
     ]
    },
    {
     "name": "stdout",
     "output_type": "stream",
     "text": [
      "\n",
      "All activity Acc: 32.40 (last), 26.71 (average), 55.60 (best)\n",
      "Proportion weighting Acc: 33.60 (last), 27.50 (average), 57.20 (best)\n",
      "\n"
     ]
    },
    {
     "name": "stderr",
     "output_type": "stream",
     "text": [
      " 30%|███       | 18001/60000 [58:39<2:17:03,  5.11it/s]"
     ]
    },
    {
     "name": "stdout",
     "output_type": "stream",
     "text": [
      "\n",
      "All activity Acc: 52.00 (last), 27.06 (average), 55.60 (best)\n",
      "Proportion weighting Acc: 54.40 (last), 27.87 (average), 57.20 (best)\n",
      "\n"
     ]
    },
    {
     "name": "stderr",
     "output_type": "stream",
     "text": [
      " 30%|███       | 18251/60000 [59:27<2:16:20,  5.10it/s]"
     ]
    },
    {
     "name": "stdout",
     "output_type": "stream",
     "text": [
      "\n",
      "All activity Acc: 51.60 (last), 27.40 (average), 55.60 (best)\n",
      "Proportion weighting Acc: 54.00 (last), 28.23 (average), 57.20 (best)\n",
      "\n"
     ]
    },
    {
     "name": "stderr",
     "output_type": "stream",
     "text": [
      " 31%|███       | 18501/60000 [1:00:15<2:14:53,  5.13it/s]"
     ]
    },
    {
     "name": "stdout",
     "output_type": "stream",
     "text": [
      "\n",
      "All activity Acc: 52.80 (last), 27.74 (average), 55.60 (best)\n",
      "Proportion weighting Acc: 55.20 (last), 28.59 (average), 57.20 (best)\n",
      "\n"
     ]
    },
    {
     "name": "stderr",
     "output_type": "stream",
     "text": [
      " 31%|███▏      | 18751/60000 [1:01:03<2:14:54,  5.10it/s]"
     ]
    },
    {
     "name": "stdout",
     "output_type": "stream",
     "text": [
      "\n",
      "All activity Acc: 40.80 (last), 27.91 (average), 55.60 (best)\n",
      "Proportion weighting Acc: 44.80 (last), 28.81 (average), 57.20 (best)\n",
      "\n"
     ]
    },
    {
     "name": "stderr",
     "output_type": "stream",
     "text": [
      " 32%|███▏      | 19001/60000 [1:01:51<2:15:02,  5.06it/s]"
     ]
    },
    {
     "name": "stdout",
     "output_type": "stream",
     "text": [
      "\n",
      "All activity Acc: 38.80 (last), 28.06 (average), 55.60 (best)\n",
      "Proportion weighting Acc: 41.20 (last), 28.97 (average), 57.20 (best)\n",
      "\n"
     ]
    },
    {
     "name": "stderr",
     "output_type": "stream",
     "text": [
      " 32%|███▏      | 19251/60000 [1:02:40<2:13:20,  5.09it/s]"
     ]
    },
    {
     "name": "stdout",
     "output_type": "stream",
     "text": [
      "\n",
      "All activity Acc: 17.60 (last), 27.92 (average), 55.60 (best)\n",
      "Proportion weighting Acc: 18.40 (last), 28.84 (average), 57.20 (best)\n",
      "\n"
     ]
    },
    {
     "name": "stderr",
     "output_type": "stream",
     "text": [
      " 33%|███▎      | 19501/60000 [1:03:28<2:12:21,  5.10it/s]"
     ]
    },
    {
     "name": "stdout",
     "output_type": "stream",
     "text": [
      "\n",
      "All activity Acc: 18.80 (last), 27.81 (average), 55.60 (best)\n",
      "Proportion weighting Acc: 20.40 (last), 28.73 (average), 57.20 (best)\n",
      "\n"
     ]
    },
    {
     "name": "stderr",
     "output_type": "stream",
     "text": [
      " 33%|███▎      | 19751/60000 [1:04:16<2:14:29,  4.99it/s]"
     ]
    },
    {
     "name": "stdout",
     "output_type": "stream",
     "text": [
      "\n",
      "All activity Acc: 43.20 (last), 28.00 (average), 55.60 (best)\n",
      "Proportion weighting Acc: 46.00 (last), 28.95 (average), 57.20 (best)\n",
      "\n"
     ]
    },
    {
     "name": "stderr",
     "output_type": "stream",
     "text": [
      " 33%|███▎      | 20000/60000 [1:05:05<2:13:47,  4.98it/s]"
     ]
    },
    {
     "name": "stdout",
     "output_type": "stream",
     "text": [
      "\n",
      "All activity Acc: 35.60 (last), 28.10 (average), 55.60 (best)\n",
      "Proportion weighting Acc: 37.20 (last), 29.05 (average), 57.20 (best)\n",
      "\n"
     ]
    },
    {
     "name": "stderr",
     "output_type": "stream",
     "text": [
      " 34%|███▍      | 20250/60000 [1:05:56<2:13:08,  4.98it/s]"
     ]
    },
    {
     "name": "stdout",
     "output_type": "stream",
     "text": [
      "\n",
      "All activity Acc: 39.20 (last), 28.23 (average), 55.60 (best)\n",
      "Proportion weighting Acc: 41.20 (last), 29.20 (average), 57.20 (best)\n",
      "\n"
     ]
    },
    {
     "name": "stderr",
     "output_type": "stream",
     "text": [
      " 34%|███▍      | 20380/60000 [1:06:20<1:53:46,  5.80it/s]"
     ]
    }
   ],
   "source": [
    "stdp_model.Network()"
   ]
  },
  {
   "cell_type": "code",
   "execution_count": null,
   "metadata": {},
   "outputs": [],
   "source": []
  }
 ],
 "metadata": {
  "kernelspec": {
   "display_name": "research",
   "language": "python",
   "name": "python3"
  },
  "language_info": {
   "codemirror_mode": {
    "name": "ipython",
    "version": 3
   },
   "file_extension": ".py",
   "mimetype": "text/x-python",
   "name": "python",
   "nbconvert_exporter": "python",
   "pygments_lexer": "ipython3",
   "version": "3.8.17"
  },
  "orig_nbformat": 4
 },
 "nbformat": 4,
 "nbformat_minor": 2
}
