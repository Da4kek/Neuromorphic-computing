{
 "cells": [
  {
   "cell_type": "code",
   "execution_count": 9,
   "metadata": {},
   "outputs": [],
   "source": [
    "def lif(X,U):\n",
    "    beta = 0.9\n",
    "    W = 0.5\n",
    "    theta = 1 \n",
    "    S = 2\n",
    "    U = beta * U + W - S*theta \n",
    "    S = int(S>theta)\n",
    "    return S,U "
   ]
  },
  {
   "cell_type": "code",
   "execution_count": 24,
   "metadata": {},
   "outputs": [
    {
     "data": {
      "text/plain": [
       "(tensor([0., 0., 0., 0., 0., 0., 0., 0., 0., 0.]),\n",
       " tensor([0.6043, 0.6020, 0.0709, 0.1901, 0.0546, 0.9682, 0.9129, 0.7913, 0.9248,\n",
       "         0.1819]))"
      ]
     },
     "execution_count": 24,
     "metadata": {},
     "output_type": "execute_result"
    }
   ],
   "source": [
    "import torch \n",
    "import snntorch as snn \n",
    "X = torch.rand(10)\n",
    "U = torch.zeros(10)\n",
    "lif = snn.Leaky(beta=0.9)\n",
    "lif(X,U)"
   ]
  },
  {
   "cell_type": "code",
   "execution_count": 28,
   "metadata": {},
   "outputs": [
    {
     "name": "stdout",
     "output_type": "stream",
     "text": [
      "torch.Size([100, 10])\n"
     ]
    }
   ],
   "source": [
    "from snntorch import spikegen\n",
    "steps = 100 \n",
    "X = torch.rand(10)\n",
    "S = spikegen.latency(X,num_steps=steps)\n",
    "print(S.size())"
   ]
  },
  {
   "cell_type": "code",
   "execution_count": null,
   "metadata": {},
   "outputs": [],
   "source": []
  },
  {
   "cell_type": "code",
   "execution_count": null,
   "metadata": {},
   "outputs": [],
   "source": []
  }
 ],
 "metadata": {
  "kernelspec": {
   "display_name": "research",
   "language": "python",
   "name": "python3"
  },
  "language_info": {
   "codemirror_mode": {
    "name": "ipython",
    "version": 3
   },
   "file_extension": ".py",
   "mimetype": "text/x-python",
   "name": "python",
   "nbconvert_exporter": "python",
   "pygments_lexer": "ipython3",
   "version": "3.8.17"
  },
  "orig_nbformat": 4
 },
 "nbformat": 4,
 "nbformat_minor": 2
}
